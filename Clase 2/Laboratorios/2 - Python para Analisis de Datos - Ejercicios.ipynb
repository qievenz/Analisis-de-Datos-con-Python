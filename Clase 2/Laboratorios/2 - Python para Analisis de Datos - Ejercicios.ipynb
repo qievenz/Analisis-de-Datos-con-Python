{
 "cells": [
  {
   "cell_type": "markdown",
   "metadata": {},
   "source": [
    "# Curso de Python para Analisis de Datos\n",
    "\n",
    "\n",
    "## Clase 2\n",
    "\n",
    "\n",
    "#### Indice:\n",
    "    Operaciones Logicas\n",
    "    Condicionales (IF)\n",
    "    Listas\n",
    "    Indices y Slicing\n",
    "    Operaciones de listas\n",
    "    Matrices\n",
    "    Bucle While\n",
    "    Bucle For\n",
    "    Range"
   ]
  },
  {
   "cell_type": "markdown",
   "metadata": {},
   "source": [
    "## Operaciones lógicas\n",
    "Las operaciones lógicas son tan comunes como las comparaciones en cualquier programa,\n",
    "puesto que nos permiten crear comparaciones más complejas. Consideremos la siguiente\n",
    "variable:"
   ]
  },
  {
   "cell_type": "code",
   "execution_count": null,
   "metadata": {},
   "outputs": [],
   "source": [
    "a = 5"
   ]
  },
  {
   "cell_type": "markdown",
   "metadata": {},
   "source": [
    "¿Cómo puedo determinar si a es mayor a 1 y menor a 10, o, lo que es lo mismo, si a se\n",
    "encuentra entre 1 y 10? Necesito combinar dos operaciones de comparación; para ello,\n",
    "empleamos la palabra reservada (esto es, palabras que Python reserva para sí y que no\n",
    "pueden constituir el nombre de ninguna variable) `and` ."
   ]
  },
  {
   "cell_type": "code",
   "execution_count": null,
   "metadata": {},
   "outputs": [],
   "source": [
    "a > 1 and a < 10"
   ]
  },
  {
   "cell_type": "markdown",
   "metadata": {},
   "source": [
    "Esta operación se conoce como **conjunción** . El resultado de una conjunción es `True` cuando las dos condiciones que se propone conectar son verdaderas. En este caso, a > 1\n",
    "and a < 10 es verdadero únicamente cuando a > 1 y a < 10 son ambas verdaderas. Si alguna de ellas es `False`, el resultado también lo es. Confirmemos lo que acabamos de decir:"
   ]
  },
  {
   "cell_type": "code",
   "execution_count": null,
   "metadata": {},
   "outputs": [],
   "source": [
    "True and True"
   ]
  },
  {
   "cell_type": "code",
   "execution_count": null,
   "metadata": {},
   "outputs": [],
   "source": [
    "True and False"
   ]
  },
  {
   "cell_type": "code",
   "execution_count": null,
   "metadata": {},
   "outputs": [],
   "source": [
    "False and True"
   ]
  },
  {
   "cell_type": "markdown",
   "metadata": {},
   "source": [
    "Por otro lado, la **disyunción** nos permite saber si alguna de dos comparaciones es verdadera. \n",
    "Por ejemplo, si queremos saber si a es igual a 1 o bien igual a 10:"
   ]
  },
  {
   "cell_type": "code",
   "execution_count": null,
   "metadata": {},
   "outputs": [],
   "source": [
    "a == 1 or a == 10"
   ]
  },
  {
   "cell_type": "markdown",
   "metadata": {},
   "source": [
    "Una disyunción es verdadera cuando **al menos una** de las dos comparaciones que conecta es `True`. En nuestro ejemplo, tanto a == 1 como a == 10 son comparaciones `False`, puesto que a es 5 . Comprobemos del mismo modo esta definición:"
   ]
  },
  {
   "cell_type": "code",
   "execution_count": null,
   "metadata": {},
   "outputs": [],
   "source": [
    "True or True"
   ]
  },
  {
   "cell_type": "code",
   "execution_count": null,
   "metadata": {},
   "outputs": [],
   "source": [
    "True or False"
   ]
  },
  {
   "cell_type": "code",
   "execution_count": null,
   "metadata": {},
   "outputs": [],
   "source": [
    "False or False"
   ]
  },
  {
   "cell_type": "markdown",
   "metadata": {},
   "source": [
    "La **negación** , que ejecutamos con la palabra reservada not , invierte el valor lógico de un `booleano`."
   ]
  },
  {
   "cell_type": "code",
   "execution_count": null,
   "metadata": {},
   "outputs": [],
   "source": [
    "not True"
   ]
  },
  {
   "cell_type": "code",
   "execution_count": null,
   "metadata": {},
   "outputs": [],
   "source": [
    "not False"
   ]
  },
  {
   "cell_type": "markdown",
   "metadata": {},
   "source": [
    "## Condicionales\n",
    "Dijimos que el código de un programa es ejecutado por Python de izquierda a derecha y de arriba hacia abajo. Los condicionales nos permiten diferir la ejecución de una porción de código (es decir, una o más líneas) según se cumpla una condición u otra; o, lo que es lo\n",
    "mismo, hacer que un bloque de código se ejecute únicamente cuando se cumpla una condición. Es decir, los condicionales nos permiten modificar el `flujo del programa`.\n",
    "Observemos el siguiente código de ejemplo y vayamos analizando parte por parte."
   ]
  },
  {
   "cell_type": "code",
   "execution_count": null,
   "metadata": {},
   "outputs": [],
   "source": [
    "a = 12\n",
    "if a > 10:\n",
    "    print(\"a es mayor que 10.\")"
   ]
  },
  {
   "cell_type": "markdown",
   "metadata": {},
   "source": [
    "La primera línea define una variable `a` con el valor 12 , y la segunda línea indica que el código a continuación solo debe ejecutarse cuando la condición a > 10 sea verdadera. En efecto, si cambiamos `a = 12` por `a = 7` , veremos que, al correr el programa, la tercera línea será\n",
    "ignorada.\n",
    "\n",
    "El bloque de código que será ejecutado dependiendo del resultado de la condición debe tener aplicada una sangría de cuatro espacios (esto también se conoce como `indentación`, que  es una transliteración del inglés indentation). La sangría es necesaria para poder diferenciar el bloque que se encuentra dentro del condicional del resto del código. Por ejemplo:"
   ]
  },
  {
   "cell_type": "code",
   "execution_count": null,
   "metadata": {},
   "outputs": [],
   "source": [
    "a = 12\n",
    "if a > 10:\n",
    "    print(\"a es mayor que 10.\")\n",
    "print(\"Hola mundo\")"
   ]
  },
  {
   "cell_type": "markdown",
   "metadata": {},
   "source": [
    "En este caso, le estamos indicando a Python que únicamente la tercera línea debe ejecutarse si a > 10 . En cambio, la cuarta está por fuera del condicional por cuanto no tiene sangría, y por ende se ejecute siempre independientemente del resultado de la condición.\n",
    "\n",
    "Los condicionales, entonces, están constituidos por:\n",
    "* la palabra reservada **if** ,\n",
    "* una **condición o expresión** cuyo resultado debe ser True o False seguida de **dos puntos(:)** y,\n",
    "* una o más **líneas con sangría**."
   ]
  },
  {
   "cell_type": "markdown",
   "metadata": {},
   "source": [
    "En Jupyter la sangría se aplica automáticamente a la siguiente línea al presionar `Enter` luego de indicar los dos puntos al final de la condición. También podemos insertar manualmente sangría presionando la tecla `Tab` o cuatro veces la `barra espaciadora`.\n",
    "La cantidad de código que podemos incluir dentro de un condicional es ilimitada. Incluso\n",
    "puede contener otras definiciones de variables y otros condicionales:"
   ]
  },
  {
   "cell_type": "code",
   "execution_count": null,
   "metadata": {},
   "outputs": [],
   "source": [
    "a = 12\n",
    "if a > 10:\n",
    "    print(\"a es mayor que 10.\")\n",
    "    b = 5\n",
    "    if b == 5 or b == 3.14:\n",
    "        print(\"b es 5 o 3.14.\")"
   ]
  },
  {
   "cell_type": "markdown",
   "metadata": {},
   "source": [
    "Ahora bien, consideremos esta variante:"
   ]
  },
  {
   "cell_type": "code",
   "execution_count": null,
   "metadata": {},
   "outputs": [],
   "source": [
    "a = 12\n",
    "if a > 10:\n",
    "    print(\"a es mayor que 10.\")\n",
    "else:\n",
    "    print(\"a es menor o igual que 10.\")"
   ]
  },
  {
   "cell_type": "markdown",
   "metadata": {},
   "source": [
    "La sintaxis es bastante clara: la tercera línea se ejecutará cuando a > 10 sea verdadero; y la quinta, cuando sea falso. Nótese que las palabras reservadas **if** y **else** deben estar alineadas, es decir, deben tener la misma sangría (si bien en este ejemplo no tienen sangría\n",
    "en absoluto).\n",
    "Por lo dicho es evidente que el código anterior es similar al siguiente:"
   ]
  },
  {
   "cell_type": "code",
   "execution_count": null,
   "metadata": {},
   "outputs": [],
   "source": [
    "if a > 10:\n",
    "    print(\"a es mayor que 10.\")\n",
    "if not a > 10:\n",
    "    print(\"a es menor o igual que 10.\")"
   ]
  },
  {
   "cell_type": "markdown",
   "metadata": {},
   "source": [
    "O bien a este otro:"
   ]
  },
  {
   "cell_type": "code",
   "execution_count": null,
   "metadata": {},
   "outputs": [],
   "source": [
    "a = 12\n",
    "if a > 10:\n",
    "    print(\"a es mayor que 10.\")\n",
    "if a <= 10:\n",
    "    print(\"a es menor o igual que 10.\")"
   ]
  },
  {
   "cell_type": "markdown",
   "metadata": {},
   "source": [
    "Nos resta la palabra reservada **elif** , que nos permite agregar más de una condición en un\n",
    "mismo condicional:"
   ]
  },
  {
   "cell_type": "code",
   "execution_count": null,
   "metadata": {},
   "outputs": [],
   "source": [
    "a = 5\n",
    "if a == 1:\n",
    "    print(\"a es 1.\")\n",
    "elif a == 2:\n",
    "    print(\"a es 2.\")\n",
    "elif a > 2 and a < 10:\n",
    "    print(\"a es mayor que 2 y menor que 10.\")\n",
    "else:\n",
    "    print(\"a es mayor o igual que 10.\")"
   ]
  },
  {
   "cell_type": "markdown",
   "metadata": {},
   "source": [
    "Así como en un condicional del tipo **if / else** únicamente se ejecuta un bloque de código, del mismo modo ocurre aquí. Cuando tenemos un condicional con múltiples condiciones (en donde la primera se escribe con if y el resto con **elif** ), todas ellas son evaluadas por Python (por “evaluar” entendemos determinar si son `True` o `False`) en el orden en el que están dispuestas en el código. De este modo, si a == 1 es `True`, se ejecuta print(\"a es 1.\") y el condicional termina; es decir, el resto de las condiciones no son consideradas. Pero si a == 1 es `False`, entonces se considera la segunda condición, a == 2 , y así sucesivamente hasta llegar al else en caso que todas las condiciones anteriores sean falsas."
   ]
  },
  {
   "cell_type": "markdown",
   "metadata": {},
   "source": [
    "Además de los mencionados hasta ahora, Python nos ofrece otras estructuras de datos que son más flexibles y permiten agrupar varios valores. Además muchas de ellas son mutables, es decir, permiten que asignemos o alteremos valores una vez definidas.\n",
    "\n",
    "\n",
    "## Listas\n",
    "\n",
    "\n",
    "Las `listas` nos permiten agrupar varios objetos (de cualquiera de los cuatro tipos de dato básicos que vimos) en una misma variable. Cada uno de estos objetos se conoce como `elemento` . Para crear una lista vamos a escoger un nombre e indicar, entre corchetes y separados por comas, los elementos. Por ejemplo, el siguiente código crea distintos tipos de listas:"
   ]
  },
  {
   "cell_type": "code",
   "execution_count": null,
   "metadata": {},
   "outputs": [],
   "source": [
    "#Lista de numeros primos\n",
    "numeros_primos = [2, 3, 5, 7, 11]\n",
    "\n",
    "#Lista de nombres (strings)\n",
    "alumnos = [\"Jorge\", \"Matias\", \"Juan\", \"Martin\"]\n",
    "\n",
    "#Listas de distintos tipos de datos\n",
    "datos = [3.14, True, -1, False, \"Hola mundo\"]\n"
   ]
  },
  {
   "cell_type": "markdown",
   "metadata": {},
   "source": [
    "La disposición de los `elementos` al momento de crear una lista es importante. Las listas son **colecciones ordenadas** de objetos. A cada uno de los elementos se le asigna un **índice** , que no es otra cosa que la posición en la que se encuentra en la lista, empezando del 0. El índice nos permite luego traer un elemento en particular de una lista cualquiera.\n",
    "\n",
    "Para acceder a un `elemento` de una `lista` a partir de su `índice`, vamos a indicarlo entre corchetes luego del nombre de la lista."
   ]
  },
  {
   "cell_type": "code",
   "execution_count": null,
   "metadata": {},
   "outputs": [],
   "source": [
    "print(numeros_primos[0])\n",
    "print(numeros_primos[1])\n",
    "print(numeros_primos[2])\n",
    "print(numeros_primos[3])\n",
    "print(numeros_primos[4])"
   ]
  },
  {
   "cell_type": "markdown",
   "metadata": {},
   "source": [
    "Hasta ahora vimos solo como acceder utilizando indices positivos, pero también podemos acceder usando **indices negativos**. El último caracter tendra el indice -1, el anteultimo -2 y así sucesivamente."
   ]
  },
  {
   "cell_type": "code",
   "execution_count": null,
   "metadata": {},
   "outputs": [],
   "source": [
    "#Imprime el ultimo elemento de la lista numeros_primos\n",
    "numeros_primos[-1]"
   ]
  },
  {
   "cell_type": "code",
   "execution_count": null,
   "metadata": {},
   "outputs": [],
   "source": [
    "#Imprime la sublista que va desde el tercer elemento hasta el cuarto elemento inclusive de la lista numeros_primos\n",
    "numeros_primos[2:5]"
   ]
  },
  {
   "cell_type": "code",
   "execution_count": null,
   "metadata": {},
   "outputs": [],
   "source": [
    "#Imprime la sublista que contenga los primeros tres elementos de la lista numeros_primos\n",
    "numeros_primos[:3]"
   ]
  },
  {
   "cell_type": "code",
   "execution_count": null,
   "metadata": {},
   "outputs": [],
   "source": [
    "#Imprime la sublista que contenga los ultimos dos elementos de la lista numeros_primos\n",
    "numeros_primos[-2:]"
   ]
  },
  {
   "cell_type": "markdown",
   "metadata": {},
   "source": [
    "### .append()\n",
    "Ahora bien, podemos agregar un elemento al final de la lista (luego de haberla creado)\n",
    "usando la sintaxis `nombre_lista.append(elemento)` . Por ejemplo:"
   ]
  },
  {
   "cell_type": "code",
   "execution_count": null,
   "metadata": {},
   "outputs": [],
   "source": [
    "numeros_primos.append(13)\n",
    "print(numeros_primos)\n",
    "print(numeros_primos[-1])"
   ]
  },
  {
   "cell_type": "markdown",
   "metadata": {},
   "source": [
    "### .insert()\n",
    "Ahora bien, podemos agregar un elemento al final de la lista (luego de haberla creado)\n",
    "usando la sintaxis `nombre_lista.append(elemento)` . Por ejemplo:"
   ]
  },
  {
   "cell_type": "code",
   "execution_count": null,
   "metadata": {},
   "outputs": [],
   "source": [
    "numeros_primos.insert(2, 3.14)"
   ]
  },
  {
   "cell_type": "markdown",
   "metadata": {},
   "source": [
    "En este caso, el elemento 3.14 se inserta en la posición 2 , es decir, entre los números 3 y 5 ."
   ]
  },
  {
   "cell_type": "code",
   "execution_count": null,
   "metadata": {},
   "outputs": [],
   "source": [
    "print(numeros_primos[2])\n",
    "print(numeros_primos)"
   ]
  },
  {
   "cell_type": "markdown",
   "metadata": {},
   "source": [
    "Nótese que todos los elementos subsiguientes al que acabamos de insertar sufren un desplazamiento hacia la derecha. De modo que el número 13, que antes estaba en la quinta posición, ahora está en la sexta.\n",
    "\n",
    "La operación `insert` es bastante menos frecuente que `append` .\n",
    "\n",
    "\n",
    "### del lista[indice]\n",
    "\n",
    "\n",
    "La sintaxis para quitar un elemento de una lista es `del nombre_lista[indice]` . Por ejemplo, para remover el elemento que acabamos de insertar:"
   ]
  },
  {
   "cell_type": "code",
   "execution_count": null,
   "metadata": {},
   "outputs": [],
   "source": [
    "del numeros_primos[2]"
   ]
  },
  {
   "cell_type": "markdown",
   "metadata": {},
   "source": [
    "Del mismo modo los elementos de una lista se reorganizan luego de haber eliminado uno de ellos, a menos que haya sido el último. En particular, todos aquellos que estaban a la derecha del elemento removido se desplazan una posición hacia la izquierda."
   ]
  },
  {
   "cell_type": "code",
   "execution_count": null,
   "metadata": {},
   "outputs": [],
   "source": [
    "numeros_primos\n",
    "\n",
    "# Ahora la posicion [2] vuelve a ser el 5"
   ]
  },
  {
   "cell_type": "markdown",
   "metadata": {},
   "source": [
    "### len(lista)\n",
    "\n",
    "Otra operación frecuente sobre listas es obtener el número de elementos que contiene. Lo\n",
    "conseguimos vía la instrucción `len(nombre_lista)`.\n"
   ]
  },
  {
   "cell_type": "code",
   "execution_count": null,
   "metadata": {},
   "outputs": [],
   "source": [
    "len(numeros_primos)"
   ]
  },
  {
   "cell_type": "markdown",
   "metadata": {},
   "source": [
    "Existe una relación entre el número o la cantidad de elemento de una lista y la posición del último elemento. Puesto que los índices comienzan del cero, es evidente que el último será `len(nombre_lista) - 1` ."
   ]
  },
  {
   "cell_type": "code",
   "execution_count": null,
   "metadata": {},
   "outputs": [],
   "source": [
    "numeros_primos[len(numeros_primos)-1]"
   ]
  },
  {
   "cell_type": "markdown",
   "metadata": {},
   "source": [
    "A partir de esto es claro que entre los corchetes podemos colocar un número o cualquier expresión que retorne un número. Por ejemplo, los siguientes métodos son todos similares para acceder al cuarto elemento (es decir, aquel cuyo índice es 3)."
   ]
  },
  {
   "cell_type": "code",
   "execution_count": null,
   "metadata": {},
   "outputs": [],
   "source": [
    "numeros_primos[3] == numeros_primos[2+1]"
   ]
  },
  {
   "cell_type": "code",
   "execution_count": null,
   "metadata": {},
   "outputs": [],
   "source": [
    "indice=3\n",
    "numeros_primos[3] == numeros_primos[indice]"
   ]
  },
  {
   "cell_type": "markdown",
   "metadata": {},
   "source": [
    "Por último, para crear una **lista vacía** usamos dos corchetes sin elementos.\n",
    "\n",
    "Esto puede resultar útil cuando no conocemos los elementos de la lista al momento de crearla, pero los iremos añadiendo vía `append` o `insert` en el transcurso del programa."
   ]
  },
  {
   "cell_type": "code",
   "execution_count": null,
   "metadata": {},
   "outputs": [],
   "source": [
    "lista_vacia = []"
   ]
  },
  {
   "cell_type": "markdown",
   "metadata": {},
   "source": [
    "## Matrices\n",
    "\n",
    "\n",
    "Una lista puede contener otras listas como elementos. La sintaxis para lograr esto no se diferencia en modo alguno de lo que ya hemos aprendido."
   ]
  },
  {
   "cell_type": "code",
   "execution_count": null,
   "metadata": {},
   "outputs": [],
   "source": [
    "mi_lista = [[3.14, \"Hola mundo\"], [True, False, -5]]"
   ]
  },
  {
   "cell_type": "markdown",
   "metadata": {},
   "source": [
    "Este código crea una lista con dos elementos, que a su vez son listas:"
   ]
  },
  {
   "cell_type": "code",
   "execution_count": null,
   "metadata": {},
   "outputs": [],
   "source": [
    "print(mi_lista[0])\n",
    "print(mi_lista[1])"
   ]
  },
  {
   "cell_type": "markdown",
   "metadata": {},
   "source": [
    "Para acceder a los elementos de alguna de esas dos listas, simplemente agregamos otro par de corchetes:"
   ]
  },
  {
   "cell_type": "code",
   "execution_count": null,
   "metadata": {},
   "outputs": [],
   "source": [
    "print(mi_lista[0][0])\n",
    "print(mi_lista[0][1])\n",
    "print(mi_lista[1][0])\n",
    "print(mi_lista[1][1])"
   ]
  },
  {
   "cell_type": "markdown",
   "metadata": {},
   "source": [
    "Las matrices no son un tipo de colección particular en Python, sino que pueden simularse usando listas que contengan otras listas dentro de sí. Por ejemplo:"
   ]
  },
  {
   "cell_type": "code",
   "execution_count": null,
   "metadata": {},
   "outputs": [],
   "source": [
    "m1 = [[3.3, 6.1, 4.0], [4.9, 5.7, 6.4]]"
   ]
  },
  {
   "cell_type": "markdown",
   "metadata": {},
   "source": [
    "Ahora, según lo que acabamos de ver con el ejemplo de mi_lista , accedemos a los elementos indicando, entre corchetes, primero la **fila** y luego la **columna**."
   ]
  },
  {
   "cell_type": "code",
   "execution_count": null,
   "metadata": {},
   "outputs": [],
   "source": [
    "m1[0][2]"
   ]
  },
  {
   "cell_type": "code",
   "execution_count": null,
   "metadata": {},
   "outputs": [],
   "source": [
    "m1[1][1]"
   ]
  },
  {
   "cell_type": "markdown",
   "metadata": {},
   "source": [
    "## Bucle While\n",
    "\n",
    "\n",
    "Los bucles son otra herramienta que permiten modificar el flujo de un programa. Vimos que los condicionales pueden diferir la ejecución del código según se cumpla una condición u otra. Asimismo, los bucles repiten un bloque de código en tanto en cuanto se cumpla una condición.\n",
    "El bucle “while” en particular repite una porción de código siempre que una expresión sea verdadera.\n",
    "\n",
    "Observemos la  sintaxis con el siguiente ejemplo:"
   ]
  },
  {
   "cell_type": "code",
   "execution_count": null,
   "metadata": {},
   "outputs": [],
   "source": [
    "a = 1\n",
    "while a < 5:\n",
    "    print(\"Hola mundo\")"
   ]
  },
  {
   "cell_type": "markdown",
   "metadata": {},
   "source": [
    "Ejecutando esto veremos que nuestro programa imprime “Hola mundo” **infinitamente**. Esto ocurre justamente porque el bloque de código del bucle, es decir, `print(\"Hola mundo\")`, se ejecuta siempre y cuando la condición `a < 5` sea verdadera.\n",
    "Puesto que a es 1 y no cambia su valor en todo el programa, la condición es siempre verdadera y el bucle se ejecuta infinitamente.\n",
    "\n",
    "Para que un bucle sea útil debe terminar en algún momento. Hay dos formas de conseguirlo: que la condición se vuelva falsa, o ejecutar una instrucción para forzar al bucle a que\n",
    "termine.\n",
    "\n",
    "Comencemos por la primera. Debemos hacer que `a < 5` sea falso en algún momento para que el bucle termine. Podemos lograrlo vía el siguiente código:"
   ]
  },
  {
   "cell_type": "code",
   "execution_count": null,
   "metadata": {},
   "outputs": [],
   "source": [
    "a = 1\n",
    "while a < 5:\n",
    "    print(\"Hola mundo\")\n",
    "    a = a + 1"
   ]
  },
  {
   "cell_type": "markdown",
   "metadata": {},
   "source": [
    "Ejecutemos este programa y veremos que el resultado ahora son cuatro `“Hola mundo”` impresos en pantalla. La lógica de este comportamiento se comprende fácilmente si entendemos cómo avanza un bucle `while`:\n",
    "1. Chequear que la condición sea verdadera.\n",
    "2. Si es verdadera, ejecutar el bloque de código.\n",
    "3. Si es falsa, terminar el bucle (y también estos pasos).\n",
    "4. Volver al paso 1.\n",
    "Así, nuestro bucle se ejecuta hasta que a se convierte en 5 , y en consecuencia la condición `a < 5` (esto es, 5 < 5 ) se vuelve falsa.\n",
    "\n",
    "\n",
    "El segundo método para finalizar un bucle es vía la palabra reservada **break** . Cuando Python se encuentra con esta instrucción dentro de un bucle, éste termina abruptamente, por más que la condición siga siendo verdadera.\n",
    "\n",
    "Nuestro código anterior puede replicarse usando `break` del siguiente modo:"
   ]
  },
  {
   "cell_type": "code",
   "execution_count": null,
   "metadata": {},
   "outputs": [],
   "source": [
    "a = 1\n",
    "while True:\n",
    "    if a < 5:\n",
    "        print(\"Hola mundo\")\n",
    "        a = a + 1\n",
    "    else:\n",
    "        break"
   ]
  },
  {
   "cell_type": "markdown",
   "metadata": {},
   "source": [
    "Poner `True` en lugar de una condición hace sencillamente que el bucle se ejecute infinitamente. Luego nos encargaremos de terminarlo manualmente vía `break` cuando la condición ( a < 5 ) sea falsa.\n",
    "\n",
    "\n",
    "## Bucle For\n",
    "El bucle `for`, como tal, también repite la ejecución de un bloque de código, pero no en base a una condición, como en el bucle `while`, sino tantas veces como `elementos` contenga una `lista`. \n",
    "\n",
    "El cuerpo del bucle `for` se ejecuta tantas veces como elementos tenga el elemento iterable. Cualquier iterable: listas, diccionarios, strings pueden ser utilizados.\n",
    "\n",
    "Veamos su sintaxis con el siguiente ejemplo:"
   ]
  },
  {
   "cell_type": "code",
   "execution_count": null,
   "metadata": {},
   "outputs": [],
   "source": [
    "alumnos = [\"Matias\", \"Jorge\", \"Maria\", \"Gabriela\"]\n",
    "for alumno in alumnos:\n",
    "    print(\"Hola mundo\" )"
   ]
  },
  {
   "cell_type": "markdown",
   "metadata": {},
   "source": [
    "Por el momento prestemos únicamente atención a lo siguiente: si corremos este programa, el bloque de código dentro del `for` - `print(\"Hola mundo\")`- se ejecuta cuatro veces. Si agregamos un `elemento` a la `lista` de alumnos , veremos que se ejecutará cinco veces. Si agregamos otro más, seis. Y así sucesivamente. Los bucles `for` se aplican siempre sobre listas."
   ]
  },
  {
   "cell_type": "code",
   "execution_count": null,
   "metadata": {},
   "outputs": [],
   "source": [
    "alumnos = [\"Matias\", \"Jorge\", \"Maria\", \"Gabriela\"]\n",
    "for alumno in alumnos:\n",
    "    print(alumno)"
   ]
  },
  {
   "cell_type": "markdown",
   "metadata": {},
   "source": [
    "Lo que ocurre es que en cada ejecución del bloque de código (que por la cantidad de `elementos` que tiene nuestra `lista` serán cuatro) la variable alumno contendrá un `elemento` de la lista alumnos diferente, siguiendo el orden en el que fueron definidos. En efecto, el código anterior es funcionalmente igual al a este:"
   ]
  },
  {
   "cell_type": "code",
   "execution_count": null,
   "metadata": {},
   "outputs": [],
   "source": [
    "alumnos = [\"Matias\", \"Jorge\", \"Maria\", \"Gabriela\"]\n",
    "alumno = alumnos[0]\n",
    "print(alumno)\n",
    "alumno = alumnos[1]\n",
    "print(alumno)\n",
    "alumno = alumnos[2]\n",
    "print(alumno)\n",
    "alumno = alumnos[3]\n",
    "print(alumno)"
   ]
  },
  {
   "cell_type": "markdown",
   "metadata": {},
   "source": [
    "La diferencia es que el bucle `for` se encarga de realizar las asignaciones a la variable alumno de forma automática.\n",
    "\n",
    "\n",
    "## Comparacion de bucles\n",
    "La mayoría de las tareas que requieren repitencia de un código (para las cuales los bucles son la herramienta ideal) pueden solucionarse usando cualquiera de los dos bucles que\n",
    "vimos. Sin embargo, en ocasiones es más pertinente alguno de ellos en particular. \n",
    "\n",
    "Supongamos que queremos imprimir números del uno al diez. Usar un `while` es una opción:"
   ]
  },
  {
   "cell_type": "code",
   "execution_count": null,
   "metadata": {},
   "outputs": [],
   "source": [
    "i = 1\n",
    "while i <= 10:\n",
    "    print(i)\n",
    "    i = i + 1"
   ]
  },
  {
   "cell_type": "markdown",
   "metadata": {},
   "source": [
    "La alternativa es un bucle `for`:"
   ]
  },
  {
   "cell_type": "code",
   "execution_count": null,
   "metadata": {},
   "outputs": [],
   "source": [
    "for i in [1, 2, 3, 4, 5, 6, 7, 8, 9, 10]:\n",
    "    print(i)"
   ]
  },
  {
   "cell_type": "markdown",
   "metadata": {},
   "source": [
    "## Range\n",
    "\n",
    "\n",
    "Aquí es claro cuál de los dos métodos es más conveniente: si ahora queremos imprimir números del uno al cien, el bucle `while` solo necesita modificar su condición por `i <= 100` .\n",
    "Pero en el caso segundo caso hay que agregar los noventa números restantes a la lista. Para solucionar este último inconveniente, Python incluye una instrucción llamada **range** que genera listas de números enteros en tiempo de ejecución. \n",
    "\n",
    "El código anterior, usando esta nueva instrucción, se expresa de la siguiente forma:"
   ]
  },
  {
   "cell_type": "code",
   "execution_count": null,
   "metadata": {},
   "outputs": [],
   "source": [
    "for i in range(1, 11):\n",
    "    print(i)"
   ]
  },
  {
   "cell_type": "markdown",
   "metadata": {},
   "source": [
    "La instrucción `range(inicio, fin)` genera una lista de números desde inicio hasta fin-1 (de ahí que `range(1, 11)` produzca números del uno al diez). Ahora es mucho más fácil cambiar este código para imprimir números del uno al cien, simplemente reemplazando `range(1, 11)` por `range(1, 101)`.\n",
    "\n",
    "Otro argumento que puede utilizarse en `range(inicio, fin, saltos)`, donde la tercer opcion seran cada cuantos numeros haran los saltos del conteo. Ejemplo:"
   ]
  },
  {
   "cell_type": "code",
   "execution_count": null,
   "metadata": {},
   "outputs": [],
   "source": [
    "# Range con salto cada 2 numeros\n",
    "for i in range(1, 11, 2):\n",
    "    print(i)"
   ]
  },
  {
   "cell_type": "markdown",
   "metadata": {},
   "source": [
    "Hasta ahora vimos cómo crear una lista por extensión (es decir, escribiendo los elementos de la lista al momento de crearla) y vimos cómo crear una lista vacía para luego ir agregándole elementos. Existe otra manera más prolija y eficiente de crear listas que se llama por comprensión. Es muy parecido a crear una lista con un for, pero se hace todo en una sola línea."
   ]
  },
  {
   "cell_type": "code",
   "execution_count": null,
   "metadata": {},
   "outputs": [],
   "source": [
    "lista = [num for num in range(1000)]\n",
    "print(lista)"
   ]
  },
  {
   "cell_type": "markdown",
   "metadata": {},
   "source": [
    "También podemos agregar condiciones y expresiones a las listas por comprensión"
   ]
  },
  {
   "cell_type": "code",
   "execution_count": null,
   "metadata": {},
   "outputs": [],
   "source": [
    "lista = [num**2 for num in range(-10, 10) if ((num%2 == 0) | (num%3 == 0))]\n",
    "print(lista)"
   ]
  },
  {
   "cell_type": "markdown",
   "metadata": {},
   "source": [
    "La sintaxis completa de las listas por comprensión es la siguiente:\n",
    "\n",
    "[*expresión* **for** elemento **in** *iterable* **if** *condición*]\n",
    "\n",
    "A parte de ser más prolijas, las listas por comprensión son más eficientes."
   ]
  },
  {
   "cell_type": "markdown",
   "metadata": {},
   "source": [
    "## Ejercicios:"
   ]
  },
  {
   "cell_type": "markdown",
   "metadata": {},
   "source": [
    "* Realizar un programa donde el usuario ingresando la edad pueda saber si puede votar, y si su voto es obligatorio o no"
   ]
  },
  {
   "cell_type": "code",
   "execution_count": null,
   "metadata": {},
   "outputs": [],
   "source": []
  },
  {
   "cell_type": "markdown",
   "metadata": {},
   "source": [
    "* De dos números, saber cual es el mayor. "
   ]
  },
  {
   "cell_type": "code",
   "execution_count": null,
   "metadata": {},
   "outputs": [],
   "source": []
  },
  {
   "cell_type": "markdown",
   "metadata": {},
   "source": [
    "* Crea una variable numérica y si esta entre 0 y 10, mostrar un mensaje indicándolo."
   ]
  },
  {
   "cell_type": "code",
   "execution_count": null,
   "metadata": {},
   "outputs": [],
   "source": []
  },
  {
   "cell_type": "markdown",
   "metadata": {},
   "source": [
    "* Añadir al anterior ejercicio, que si esta entre 11 y 20, muestre otro mensaje diferente y si esta entre 21 y 30 otro mensaje"
   ]
  },
  {
   "cell_type": "code",
   "execution_count": null,
   "metadata": {},
   "outputs": [],
   "source": []
  },
  {
   "cell_type": "markdown",
   "metadata": {},
   "source": [
    "* Realiza un programa que lea dos numeros por teclado y permita elegir entre 3 opciones en un menu:\n",
    "    - Mostrar una suma de los dos numeros\n",
    "    - Mostrar una resta de los dos numeros (el primero menos el segundo)\n",
    "    - Mostrar una multiplicacion de los dos numeros\n",
    "    - En caso de no introducir una opcion valida, el programa informara de que no es correcta."
   ]
  },
  {
   "cell_type": "code",
   "execution_count": null,
   "metadata": {},
   "outputs": [],
   "source": []
  },
  {
   "cell_type": "markdown",
   "metadata": {},
   "source": [
    "* Crear un programa que permita ingresar dos cadenas vía la consola y luego las compare, imprimiendo un mensaje en caso que sean iguales y otro en caso que sean diferentes."
   ]
  },
  {
   "cell_type": "code",
   "execution_count": null,
   "metadata": {},
   "outputs": [],
   "source": []
  },
  {
   "cell_type": "markdown",
   "metadata": {},
   "source": [
    "* Crear un programa que solicite el nombre de un alumno a través de la consola, y luego chequee que no esté vacío. En caso de estarlo, debe imprimir un mensaje de error; caso contrario, imprimir un mensaje indicando que se ingresó correctamente."
   ]
  },
  {
   "cell_type": "code",
   "execution_count": null,
   "metadata": {},
   "outputs": [],
   "source": []
  },
  {
   "cell_type": "markdown",
   "metadata": {},
   "source": [
    "* Escribe un programa en el que ingreses un numero y nos avise si es divisible por 5 y 7."
   ]
  },
  {
   "cell_type": "code",
   "execution_count": null,
   "metadata": {},
   "outputs": [],
   "source": []
  },
  {
   "cell_type": "markdown",
   "metadata": {},
   "source": [
    "Crea un convertidor de grados Fahrenheit - Celcius.\n",
    "\n",
    "` Formula : c/5 = f-32/9 [ where c = tempratura en celsius y f = temperatura en fahrenheit `\n",
    "\n",
    "\n",
    "Resultado esperado :\n",
    "\n",
    "- 60°C son 140 en Fahrenheit\n",
    "\n",
    "- 45°F son 7 en Celsius"
   ]
  },
  {
   "cell_type": "code",
   "execution_count": null,
   "metadata": {},
   "outputs": [],
   "source": []
  },
  {
   "cell_type": "markdown",
   "metadata": {},
   "source": [
    "* Para mas ejercicios https://www.w3resource.com/python-exercises/python-conditional-statements-and-loop-exercises.php\n"
   ]
  },
  {
   "cell_type": "code",
   "execution_count": null,
   "metadata": {},
   "outputs": [],
   "source": []
  }
 ],
 "metadata": {
  "kernelspec": {
   "display_name": "Python 3",
   "language": "python",
   "name": "python3"
  },
  "language_info": {
   "codemirror_mode": {
    "name": "ipython",
    "version": 3
   },
   "file_extension": ".py",
   "mimetype": "text/x-python",
   "name": "python",
   "nbconvert_exporter": "python",
   "pygments_lexer": "ipython3",
   "version": "3.6.5"
  }
 },
 "nbformat": 4,
 "nbformat_minor": 2
}
