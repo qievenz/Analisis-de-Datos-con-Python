{
 "cells": [
  {
   "cell_type": "markdown",
   "metadata": {},
   "source": [
    "# Curso de Python para Analisis de Datos\n",
    "\n",
    "\n",
    "## Clase 6\n",
    "\n",
    "\n",
    "#### Indice:\n",
    "        matplotlib\n",
    "        \n",
    "        "
   ]
  },
  {
   "cell_type": "markdown",
   "metadata": {},
   "source": [
    "## Matplotlib\n",
    "Es una biblioteca para la generación de gráficos a partir de datos contenidos en listas o arrays en Python y su extensión matemática NumPy. Se basa en el programa matlab.\n",
    "\n",
    "`matplotlib` tiene una amplia base de código que puede ser desalentador para muchos usuarios nuevos. Sin embargo, la mayoría\n",
    "de la biblioteca se puede entender con un marco conceptual bastante simple y conocimiento de algunos puntos importantes. Todos los graficos y las funciones de matplotlib siguen las mismas reglas. Por ende una vez que nos familiaricemos con algunas, el resto seran mas faciles."
   ]
  },
  {
   "cell_type": "code",
   "execution_count": 5,
   "metadata": {
    "colab": {},
    "colab_type": "code",
    "id": "g4Co1r0w5J4t"
   },
   "outputs": [],
   "source": [
    "import pandas as pd\n",
    "import numpy as np\n",
    "import matplotlib.pyplot as plt\n",
    "%matplotlib inline"
   ]
  },
  {
   "cell_type": "markdown",
   "metadata": {},
   "source": [
    "<img src=\"matplotlib.png\">"
   ]
  },
  {
   "cell_type": "markdown",
   "metadata": {},
   "source": [
    "### Hay diferentes formas de plotear con Matplotlib:\n",
    "\n",
    "**figure(num, figsize, dpi, facecolor, edgecolor, frameon)**\n",
    "\n",
    "**num** = numeración de la figura, si num = None, las figuras se numeran automáticamente.\n",
    "\n",
    "**figsize** = w, h tuplas en pulgadas. Tamaño de la figura\n",
    "\n",
    "**dpi** = Resolución de la imagen en puntos por pulgada.\n",
    "\n",
    "**facecolor** = Color del rectángulo de la figura.\n",
    "\n",
    "**edgecolor** = Color del perímetro de la figura.\n",
    "\n",
    "**frameon** = Si es falso, elimina el marco de la figura.\n",
    "\n",
    "--------------------------------------------\n",
    "\n",
    "### Para crear mas figuras en una misma ventana podemos utilizar el siguiente comando:\n",
    "\n",
    "**subplot(numRows, numCols, plotNum)**\n",
    "\n",
    "**numRows** = Número de filas\n",
    "\n",
    "**numCols** = Número de columnas\n",
    "\n",
    "**plotNum** = Número de gráfica\n",
    "\n",
    "------------- \n",
    "### Tambien podemos incluir varias gráficas en una única figura:\n",
    "\n",
    "**plot(x, y, linestyle, linewidth, marker)** –> \n",
    "\n",
    "**x** = Abcisas.\n",
    "\n",
    "**y** = Ordenadas. Tanto x como y pueden ser abcisas tuplas, listas o arrays, pero ambas deben tener el mismo tamaño.\n",
    "\n",
    "**linestyle** = color y tipo de dibujar la gráfica. Por ejemplo ‘k- -‘\n",
    "\n",
    "**linewidth** = ancho de línea.\n",
    "\n",
    "**marker** = Marcador."
   ]
  },
  {
   "cell_type": "markdown",
   "metadata": {
    "colab_type": "text",
    "id": "ygzmcG2h5wml"
   },
   "source": [
    "Vamos a generar unos datos para empezar a graficar.\n",
    "Utilizamos de `numpy` la funcion `linspace` que nos retorna valores entre los valores especificados.\n",
    "**np.linspace(desde, hasta, cantidad)**"
   ]
  },
  {
   "cell_type": "code",
   "execution_count": 6,
   "metadata": {
    "colab": {
     "base_uri": "https://localhost:8080/",
     "height": 246
    },
    "colab_type": "code",
    "executionInfo": {
     "elapsed": 635,
     "status": "ok",
     "timestamp": 1566419036403,
     "user": {
      "displayName": "Martin Soko",
      "photoUrl": "https://lh3.googleusercontent.com/a-/AAuE7mB49KDH9U9UtjIU6-NzSX3GgsCcCcSc0iwMPsLF=s64",
      "userId": "09674850801791942615"
     },
     "user_tz": 180
    },
    "id": "sDOwYEco53vq",
    "outputId": "a82a58f8-e492-4cfa-aeb7-0102eff997a1"
   },
   "outputs": [
    {
     "data": {
      "text/plain": [
       "array([-10.        ,  -9.59183673,  -9.18367347,  -8.7755102 ,\n",
       "        -8.36734694,  -7.95918367,  -7.55102041,  -7.14285714,\n",
       "        -6.73469388,  -6.32653061,  -5.91836735,  -5.51020408,\n",
       "        -5.10204082,  -4.69387755,  -4.28571429,  -3.87755102,\n",
       "        -3.46938776,  -3.06122449,  -2.65306122,  -2.24489796,\n",
       "        -1.83673469,  -1.42857143,  -1.02040816,  -0.6122449 ,\n",
       "        -0.20408163,   0.20408163,   0.6122449 ,   1.02040816,\n",
       "         1.42857143,   1.83673469,   2.24489796,   2.65306122,\n",
       "         3.06122449,   3.46938776,   3.87755102,   4.28571429,\n",
       "         4.69387755,   5.10204082,   5.51020408,   5.91836735,\n",
       "         6.32653061,   6.73469388,   7.14285714,   7.55102041,\n",
       "         7.95918367,   8.36734694,   8.7755102 ,   9.18367347,\n",
       "         9.59183673,  10.        ])"
      ]
     },
     "execution_count": 6,
     "metadata": {},
     "output_type": "execute_result"
    }
   ],
   "source": [
    "#Generamos los valores del eje x\n",
    "x = np.linspace(-10, 10, 50)\n",
    "x"
   ]
  },
  {
   "cell_type": "code",
   "execution_count": 7,
   "metadata": {
    "colab": {},
    "colab_type": "code",
    "id": "8-NO9uX02vOu"
   },
   "outputs": [],
   "source": [
    "x2 = list(range(-10, 10))"
   ]
  },
  {
   "cell_type": "code",
   "execution_count": 8,
   "metadata": {
    "colab": {
     "base_uri": "https://localhost:8080/",
     "height": 34
    },
    "colab_type": "code",
    "executionInfo": {
     "elapsed": 722,
     "status": "ok",
     "timestamp": 1566419251973,
     "user": {
      "displayName": "Martin Soko",
      "photoUrl": "https://lh3.googleusercontent.com/a-/AAuE7mB49KDH9U9UtjIU6-NzSX3GgsCcCcSc0iwMPsLF=s64",
      "userId": "09674850801791942615"
     },
     "user_tz": 180
    },
    "id": "8fIPcAsy3OZY",
    "outputId": "a7013c65-7cc5-43dc-b86a-f1313a7101be"
   },
   "outputs": [
    {
     "data": {
      "text/plain": [
       "[-10, -9, -8, -7, -6, -5, -4, -3, -2, -1, 0, 1, 2, 3, 4, 5, 6, 7, 8, 9]"
      ]
     },
     "execution_count": 8,
     "metadata": {},
     "output_type": "execute_result"
    }
   ],
   "source": [
    "x2"
   ]
  },
  {
   "cell_type": "code",
   "execution_count": 9,
   "metadata": {
    "colab": {
     "base_uri": "https://localhost:8080/",
     "height": 34
    },
    "colab_type": "code",
    "executionInfo": {
     "elapsed": 598,
     "status": "ok",
     "timestamp": 1566419260493,
     "user": {
      "displayName": "Martin Soko",
      "photoUrl": "https://lh3.googleusercontent.com/a-/AAuE7mB49KDH9U9UtjIU6-NzSX3GgsCcCcSc0iwMPsLF=s64",
      "userId": "09674850801791942615"
     },
     "user_tz": 180
    },
    "id": "vx7KWWjv21d5",
    "outputId": "1242cf9b-6d3f-4ffc-d10d-ff70302971b1"
   },
   "outputs": [
    {
     "data": {
      "text/plain": [
       "list"
      ]
     },
     "execution_count": 9,
     "metadata": {},
     "output_type": "execute_result"
    }
   ],
   "source": [
    "type(x2)"
   ]
  },
  {
   "cell_type": "code",
   "execution_count": 10,
   "metadata": {
    "colab": {
     "base_uri": "https://localhost:8080/",
     "height": 34
    },
    "colab_type": "code",
    "executionInfo": {
     "elapsed": 902,
     "status": "ok",
     "timestamp": 1566419214219,
     "user": {
      "displayName": "Martin Soko",
      "photoUrl": "https://lh3.googleusercontent.com/a-/AAuE7mB49KDH9U9UtjIU6-NzSX3GgsCcCcSc0iwMPsLF=s64",
      "userId": "09674850801791942615"
     },
     "user_tz": 180
    },
    "id": "hzxEi3GM29B3",
    "outputId": "d7de439c-04b3-4b49-95ea-3d845aaae4e8"
   },
   "outputs": [
    {
     "data": {
      "text/plain": [
       "numpy.ndarray"
      ]
     },
     "execution_count": 10,
     "metadata": {},
     "output_type": "execute_result"
    }
   ],
   "source": [
    "type(x)"
   ]
  },
  {
   "cell_type": "markdown",
   "metadata": {},
   "source": [
    "Vemos la diferencia entre `range()` y `linspace()`?\n",
    "\n",
    "\n",
    "`range` nos retorna una lista mientras que `linspace` nos devuelve un array"
   ]
  },
  {
   "cell_type": "markdown",
   "metadata": {
    "colab_type": "text",
    "id": "78QXvpCo6QUD"
   },
   "source": [
    "Recordemos la fórmula de una recta o funcion lineal:\n",
    "$$ y = a · x + b $$"
   ]
  },
  {
   "cell_type": "code",
   "execution_count": 11,
   "metadata": {
    "colab": {
     "base_uri": "https://localhost:8080/",
     "height": 34
    },
    "colab_type": "code",
    "executionInfo": {
     "elapsed": 623,
     "status": "ok",
     "timestamp": 1566419368326,
     "user": {
      "displayName": "Martin Soko",
      "photoUrl": "https://lh3.googleusercontent.com/a-/AAuE7mB49KDH9U9UtjIU6-NzSX3GgsCcCcSc0iwMPsLF=s64",
      "userId": "09674850801791942615"
     },
     "user_tz": 180
    },
    "id": "9Ais1Zfl3oIk",
    "outputId": "849d4597-d36d-43fb-98d4-9a1928a74c4d"
   },
   "outputs": [
    {
     "data": {
      "text/plain": [
       "['hola', 'chau', 'hola', 'chau']"
      ]
     },
     "execution_count": 11,
     "metadata": {},
     "output_type": "execute_result"
    }
   ],
   "source": [
    "['hola', 'chau'] * 2"
   ]
  },
  {
   "cell_type": "code",
   "execution_count": 12,
   "metadata": {
    "colab": {},
    "colab_type": "code",
    "id": "m3eFtkoo6Zf6"
   },
   "outputs": [],
   "source": [
    "# Definimos los parámetros de la recta\n",
    "a = -2\n",
    "b = 3"
   ]
  },
  {
   "cell_type": "code",
   "execution_count": 13,
   "metadata": {
    "colab": {
     "base_uri": "https://localhost:8080/",
     "height": 246
    },
    "colab_type": "code",
    "executionInfo": {
     "elapsed": 762,
     "status": "ok",
     "timestamp": 1566419391952,
     "user": {
      "displayName": "Martin Soko",
      "photoUrl": "https://lh3.googleusercontent.com/a-/AAuE7mB49KDH9U9UtjIU6-NzSX3GgsCcCcSc0iwMPsLF=s64",
      "userId": "09674850801791942615"
     },
     "user_tz": 180
    },
    "id": "r3XkdjS06G6D",
    "outputId": "026ac1b9-9f7a-4558-eef8-96b0ba7d5a4d"
   },
   "outputs": [
    {
     "data": {
      "text/plain": [
       "array([ 23.        ,  22.18367347,  21.36734694,  20.55102041,\n",
       "        19.73469388,  18.91836735,  18.10204082,  17.28571429,\n",
       "        16.46938776,  15.65306122,  14.83673469,  14.02040816,\n",
       "        13.20408163,  12.3877551 ,  11.57142857,  10.75510204,\n",
       "         9.93877551,   9.12244898,   8.30612245,   7.48979592,\n",
       "         6.67346939,   5.85714286,   5.04081633,   4.2244898 ,\n",
       "         3.40816327,   2.59183673,   1.7755102 ,   0.95918367,\n",
       "         0.14285714,  -0.67346939,  -1.48979592,  -2.30612245,\n",
       "        -3.12244898,  -3.93877551,  -4.75510204,  -5.57142857,\n",
       "        -6.3877551 ,  -7.20408163,  -8.02040816,  -8.83673469,\n",
       "        -9.65306122, -10.46938776, -11.28571429, -12.10204082,\n",
       "       -12.91836735, -13.73469388, -14.55102041, -15.36734694,\n",
       "       -16.18367347, -17.        ])"
      ]
     },
     "execution_count": 13,
     "metadata": {},
     "output_type": "execute_result"
    }
   ],
   "source": [
    "# Creamos y a partir de la función\n",
    "y = a*x + b\n",
    "y"
   ]
  },
  {
   "cell_type": "markdown",
   "metadata": {
    "colab_type": "text",
    "id": "NUNSn5Z46l4y"
   },
   "source": [
    "La manera más rápida y fácil de graficar es usar el método `plot` de matplotlib"
   ]
  },
  {
   "cell_type": "code",
   "execution_count": 14,
   "metadata": {
    "colab": {
     "base_uri": "https://localhost:8080/",
     "height": 34
    },
    "colab_type": "code",
    "executionInfo": {
     "elapsed": 620,
     "status": "ok",
     "timestamp": 1566419476497,
     "user": {
      "displayName": "Martin Soko",
      "photoUrl": "https://lh3.googleusercontent.com/a-/AAuE7mB49KDH9U9UtjIU6-NzSX3GgsCcCcSc0iwMPsLF=s64",
      "userId": "09674850801791942615"
     },
     "user_tz": 180
    },
    "id": "XnfdxVdT4DD5",
    "outputId": "cb937d5c-ac41-4810-9c37-01b18392fd04"
   },
   "outputs": [
    {
     "data": {
      "text/plain": [
       "(50, 50)"
      ]
     },
     "execution_count": 14,
     "metadata": {},
     "output_type": "execute_result"
    }
   ],
   "source": [
    "len(x), len(y)"
   ]
  },
  {
   "cell_type": "code",
   "execution_count": 15,
   "metadata": {
    "colab": {
     "base_uri": "https://localhost:8080/",
     "height": 287
    },
    "colab_type": "code",
    "executionInfo": {
     "elapsed": 763,
     "status": "ok",
     "timestamp": 1566419409771,
     "user": {
      "displayName": "Martin Soko",
      "photoUrl": "https://lh3.googleusercontent.com/a-/AAuE7mB49KDH9U9UtjIU6-NzSX3GgsCcCcSc0iwMPsLF=s64",
      "userId": "09674850801791942615"
     },
     "user_tz": 180
    },
    "id": "emdqFAYg6uCS",
    "outputId": "59ff86e5-871a-4e55-a1f1-5e0272d7a1c0"
   },
   "outputs": [
    {
     "data": {
      "text/plain": [
       "[<matplotlib.lines.Line2D at 0x7f451e839c40>]"
      ]
     },
     "execution_count": 15,
     "metadata": {},
     "output_type": "execute_result"
    },
    {
     "data": {
      "image/png": "[encoded data removed]",
      "text/plain": [
       "<Figure size 432x288 with 1 Axes>"
      ]
     },
     "metadata": {
      "needs_background": "light"
     },
     "output_type": "display_data"
    }
   ],
   "source": [
    "plt.plot(x, y)"
   ]
  },
  {
   "cell_type": "markdown",
   "metadata": {
    "colab_type": "text",
    "id": "zKWjZwvm6vJq"
   },
   "source": [
    "Generamos nuestro primer gráfico!\n",
    "Ahora vamos a mejorarlo un poco."
   ]
  },
  {
   "cell_type": "code",
   "execution_count": null,
   "metadata": {
    "colab": {
     "base_uri": "https://localhost:8080/",
     "height": 269
    },
    "colab_type": "code",
    "executionInfo": {
     "elapsed": 779,
     "status": "ok",
     "timestamp": 1566419694853,
     "user": {
      "displayName": "Martin Soko",
      "photoUrl": "https://lh3.googleusercontent.com/a-/AAuE7mB49KDH9U9UtjIU6-NzSX3GgsCcCcSc0iwMPsLF=s64",
      "userId": "09674850801791942615"
     },
     "user_tz": 180
    },
    "id": "JYpZvlrB67NS",
    "outputId": "b0a96952-13ba-4fe6-afce-50dbbc8f4d18"
   },
   "outputs": [],
   "source": [
    "# Generamos el mismo gráfico que antes\n",
    "plt.plot(x, y)\n",
    "# Ahora le agregamos una grilla\n",
    "plt.grid(True)"
   ]
  },
  {
   "cell_type": "code",
   "execution_count": null,
   "metadata": {
    "colab": {
     "base_uri": "https://localhost:8080/",
     "height": 312
    },
    "colab_type": "code",
    "executionInfo": {
     "elapsed": 952,
     "status": "ok",
     "timestamp": 1566419703800,
     "user": {
      "displayName": "Martin Soko",
      "photoUrl": "https://lh3.googleusercontent.com/a-/AAuE7mB49KDH9U9UtjIU6-NzSX3GgsCcCcSc0iwMPsLF=s64",
      "userId": "09674850801791942615"
     },
     "user_tz": 180
    },
    "id": "BM4oeG7A6_0z",
    "outputId": "90e6e2cf-1cfb-45a9-8ee7-66882c07da16"
   },
   "outputs": [],
   "source": [
    "# Generamos el mismo gráfico que antes\n",
    "plt.plot(x, y)\n",
    "# Ahora le agregamos una grilla, un título y los nombres de los ejes\n",
    "plt.grid(True)\n",
    "plt.title('y = ax + b')\n",
    "plt.xlabel('x')\n",
    "plt.ylabel('y')"
   ]
  },
  {
   "cell_type": "markdown",
   "metadata": {
    "colab_type": "text",
    "id": "5ZGLNbGH7agq"
   },
   "source": [
    "Ejercicio: graficar un polinomio de grado 2 ($y=ax^2+bx+c$) con los coeficientes que ustedes quieran, para los valores de x desde el -5 al 15."
   ]
  },
  {
   "cell_type": "code",
   "execution_count": null,
   "metadata": {
    "colab": {},
    "colab_type": "code",
    "id": "bCeV0WfB8NIC"
   },
   "outputs": [],
   "source": [
    "x = np.linspace(-5,15,50)"
   ]
  },
  {
   "cell_type": "code",
   "execution_count": null,
   "metadata": {
    "colab": {},
    "colab_type": "code",
    "id": "vFfvgZ-S8iru"
   },
   "outputs": [],
   "source": [
    "a = 1\n",
    "b = -2\n",
    "c = 3"
   ]
  },
  {
   "cell_type": "code",
   "execution_count": null,
   "metadata": {
    "colab": {},
    "colab_type": "code",
    "id": "ZEU9TYlZ8Yaz"
   },
   "outputs": [],
   "source": [
    "y = a*x**2 + b*x + c"
   ]
  },
  {
   "cell_type": "code",
   "execution_count": null,
   "metadata": {
    "colab": {
     "base_uri": "https://localhost:8080/",
     "height": 312
    },
    "colab_type": "code",
    "executionInfo": {
     "elapsed": 621,
     "status": "ok",
     "timestamp": 1566420826537,
     "user": {
      "displayName": "Martin Soko",
      "photoUrl": "https://lh3.googleusercontent.com/a-/AAuE7mB49KDH9U9UtjIU6-NzSX3GgsCcCcSc0iwMPsLF=s64",
      "userId": "09674850801791942615"
     },
     "user_tz": 180
    },
    "id": "3eJ5Jeun8Kur",
    "outputId": "9928ba50-03dd-4beb-f461-e445f44b0eac"
   },
   "outputs": [],
   "source": [
    "# Generamos el mismo gráfico que antes\n",
    "plt.plot(x, y)\n",
    "# Ahora le agregamos una grilla, un título y los nombres de los ejes\n",
    "plt.grid(True)\n",
    "plt.title('y = ax2 + bx + c')\n",
    "plt.xlabel('x')\n",
    "plt.ylabel('y')\n",
    "plt.xlim(5, 7.5)\n",
    "plt.ylim(10, 50)"
   ]
  },
  {
   "cell_type": "markdown",
   "metadata": {
    "colab_type": "text",
    "id": "Qp1JHBXJ8K_7"
   },
   "source": [
    "Ejercicio: graficar la función $tan(\\theta)$ para los valores de $\\theta$ en el intervalo $(-\\pi,\\pi)$"
   ]
  },
  {
   "cell_type": "code",
   "execution_count": null,
   "metadata": {
    "colab": {
     "base_uri": "https://localhost:8080/",
     "height": 34
    },
    "colab_type": "code",
    "executionInfo": {
     "elapsed": 588,
     "status": "ok",
     "timestamp": 1566421702746,
     "user": {
      "displayName": "Martin Soko",
      "photoUrl": "https://lh3.googleusercontent.com/a-/AAuE7mB49KDH9U9UtjIU6-NzSX3GgsCcCcSc0iwMPsLF=s64",
      "userId": "09674850801791942615"
     },
     "user_tz": 180
    },
    "id": "hC2yKSqNAkmK",
    "outputId": "9cf05fef-c66d-46e3-8ef7-04c5750de464"
   },
   "outputs": [],
   "source": [
    "np.pi"
   ]
  },
  {
   "cell_type": "code",
   "execution_count": null,
   "metadata": {
    "colab": {},
    "colab_type": "code",
    "id": "ayX3Jo4C8esK"
   },
   "outputs": [],
   "source": [
    "tita = np.linspace(-np.pi/2, np.pi/2, 500)"
   ]
  },
  {
   "cell_type": "code",
   "execution_count": null,
   "metadata": {
    "colab": {
     "base_uri": "https://localhost:8080/",
     "height": 34
    },
    "colab_type": "code",
    "executionInfo": {
     "elapsed": 716,
     "status": "ok",
     "timestamp": 1566421862884,
     "user": {
      "displayName": "Martin Soko",
      "photoUrl": "https://lh3.googleusercontent.com/a-/AAuE7mB49KDH9U9UtjIU6-NzSX3GgsCcCcSc0iwMPsLF=s64",
      "userId": "09674850801791942615"
     },
     "user_tz": 180
    },
    "id": "0hyfs0CFBKOa",
    "outputId": "fc7e87cb-d655-4302-a54c-8190e14fc03c"
   },
   "outputs": [],
   "source": [
    "np.tan(np.pi/2)"
   ]
  },
  {
   "cell_type": "code",
   "execution_count": null,
   "metadata": {
    "colab": {},
    "colab_type": "code",
    "id": "E1NZBbGhBbUk"
   },
   "outputs": [],
   "source": [
    "tita"
   ]
  },
  {
   "cell_type": "code",
   "execution_count": null,
   "metadata": {
    "colab": {},
    "colab_type": "code",
    "id": "OfoAOvaMAn7P"
   },
   "outputs": [],
   "source": [
    "y = np.tan(tita)"
   ]
  },
  {
   "cell_type": "code",
   "execution_count": null,
   "metadata": {
    "colab": {},
    "colab_type": "code",
    "id": "gmyAuK9PA3uf"
   },
   "outputs": [],
   "source": [
    "y"
   ]
  },
  {
   "cell_type": "code",
   "execution_count": null,
   "metadata": {
    "colab": {
     "base_uri": "https://localhost:8080/",
     "height": 287
    },
    "colab_type": "code",
    "executionInfo": {
     "elapsed": 618,
     "status": "ok",
     "timestamp": 1566422084738,
     "user": {
      "displayName": "Martin Soko",
      "photoUrl": "https://lh3.googleusercontent.com/a-/AAuE7mB49KDH9U9UtjIU6-NzSX3GgsCcCcSc0iwMPsLF=s64",
      "userId": "09674850801791942615"
     },
     "user_tz": 180
    },
    "id": "kafKetJNArRQ",
    "outputId": "079d1a77-f475-4d9e-e2b9-1f92fb65aeb7"
   },
   "outputs": [],
   "source": [
    "plt.plot(tita, y)\n",
    "plt.ylim(-50, 50)"
   ]
  },
  {
   "cell_type": "markdown",
   "metadata": {
    "colab_type": "text",
    "id": "rvOzn7UO8fCz"
   },
   "source": [
    "Matplotlib nos permite superponer gráficos\n"
   ]
  },
  {
   "cell_type": "code",
   "execution_count": null,
   "metadata": {
    "colab": {},
    "colab_type": "code",
    "id": "cViHTHmb8tkr"
   },
   "outputs": [],
   "source": [
    "x = np.linspace(0,np.pi*4, 100)\n",
    "seno = np.sin(x)\n",
    "coseno = np.cos(x)"
   ]
  },
  {
   "cell_type": "code",
   "execution_count": null,
   "metadata": {
    "colab": {
     "base_uri": "https://localhost:8080/",
     "height": 269
    },
    "colab_type": "code",
    "executionInfo": {
     "elapsed": 641,
     "status": "ok",
     "timestamp": 1566424216552,
     "user": {
      "displayName": "Martin Soko",
      "photoUrl": "https://lh3.googleusercontent.com/a-/AAuE7mB49KDH9U9UtjIU6-NzSX3GgsCcCcSc0iwMPsLF=s64",
      "userId": "09674850801791942615"
     },
     "user_tz": 180
    },
    "id": "Chn_x8Yl88kj",
    "outputId": "a3f7d79e-5cb8-484b-97ae-a725cb3a63ec"
   },
   "outputs": [],
   "source": [
    "plt.plot(x, seno)\n",
    "plt.plot(x, coseno)\n",
    "plt.grid(True)"
   ]
  },
  {
   "cell_type": "markdown",
   "metadata": {
    "colab_type": "text",
    "id": "RYHuPBGG9Auz"
   },
   "source": [
    "Vamos a personalizar un poco más los gráficos. A la función plot, podemos pasarle un argumento de formato (fmt) en el que le especificamos el color del trazo, el tipo de marcador y el tipo de línea.\n",
    "\n",
    "Podemos elegir de los siguientes colores:\n",
    "\n",
    "=============    ===============================\n",
    "\n",
    "character        color\n",
    "\n",
    "=============    ===============================\n",
    "\n",
    "``'b'``          blue\n",
    "\n",
    "``'g'``          green\n",
    "\n",
    "``'r'``          red\n",
    "\n",
    "``'c'``          cyan\n",
    "\n",
    "``'m'``          magenta\n",
    "\n",
    "``'y'``          yellow\n",
    "\n",
    "``'k'``          black\n",
    "\n",
    "``'w'``          white\n",
    "\n",
    "=============    ===============================\n",
    "\n",
    "\n",
    "Los siguientes marcadores:\n",
    "\n",
    "=============    ===============================\n",
    "\n",
    "character        description\n",
    "\n",
    "=============    ===============================\n",
    "\n",
    "``'.'``          point marker\n",
    "\n",
    "``','``          pixel marker\n",
    "\n",
    "``'o'``          circle marker\n",
    "\n",
    "``'v'``          triangle_down marker\n",
    "\n",
    "``'^'``          triangle_up marker\n",
    "\n",
    "``'<'``          triangle_left marker\n",
    "\n",
    "``'>'``          triangle_right marker\n",
    "\n",
    "``'1'``          tri_down marker\n",
    "\n",
    "``'2'``          tri_up marker\n",
    "\n",
    "``'3'``          tri_left marker\n",
    "\n",
    "``'4'``          tri_right marker\n",
    "\n",
    "``'s'``          square marker\n",
    "\n",
    "``'p'``          pentagon marker\n",
    "\n",
    "``'*'``          star marker\n",
    "\n",
    "``'h'``          hexagon1 marker\n",
    "\n",
    "``'H'``          hexagon2 marker\n",
    "\n",
    "``'+'``          plus marker\n",
    "\n",
    "``'x'``          x marker\n",
    "\n",
    "``'D'``          diamond marker\n",
    "\n",
    "``'d'``          thin_diamond marker\n",
    "\n",
    "``'|'``          vline marker\n",
    "\n",
    "``'_'``          hline marker\n",
    "\n",
    "=============    ===============================\n",
    "\n",
    "\n",
    "Y los siguientes tipos de linea:\n",
    "\n",
    "=============    ===============================\n",
    "\n",
    "character        description\n",
    "\n",
    "=============    ===============================\n",
    "\n",
    "``'-'``          solid line style\n",
    "\n",
    "``'--'``         dashed line style\n",
    "\n",
    "``'-.'``         dash-dot line style\n",
    "\n",
    "``':'``          dotted line style\n",
    "\n",
    "=============    ===============================\n",
    "\n",
    "Combinando los caracteres para [color][marcador][linea] podemos personalizar cada trazo.\n",
    "\n",
    "Veamos ejemplos\n"
   ]
  },
  {
   "cell_type": "code",
   "execution_count": null,
   "metadata": {
    "colab": {
     "base_uri": "https://localhost:8080/",
     "height": 287
    },
    "colab_type": "code",
    "executionInfo": {
     "elapsed": 813,
     "status": "ok",
     "timestamp": 1566424496585,
     "user": {
      "displayName": "Martin Soko",
      "photoUrl": "https://lh3.googleusercontent.com/a-/AAuE7mB49KDH9U9UtjIU6-NzSX3GgsCcCcSc0iwMPsLF=s64",
      "userId": "09674850801791942615"
     },
     "user_tz": 180
    },
    "id": "RXp_z_879PXr",
    "outputId": "00a8d3e9-41b0-4c72-80e4-c5bfdb137d29"
   },
   "outputs": [],
   "source": [
    "plt.plot(x, seno, 'ro:')\n",
    "plt.plot(x, coseno, 'g-')"
   ]
  },
  {
   "cell_type": "code",
   "execution_count": null,
   "metadata": {
    "colab": {
     "base_uri": "https://localhost:8080/",
     "height": 287
    },
    "colab_type": "code",
    "executionInfo": {
     "elapsed": 814,
     "status": "ok",
     "timestamp": 1566424590952,
     "user": {
      "displayName": "Martin Soko",
      "photoUrl": "https://lh3.googleusercontent.com/a-/AAuE7mB49KDH9U9UtjIU6-NzSX3GgsCcCcSc0iwMPsLF=s64",
      "userId": "09674850801791942615"
     },
     "user_tz": 180
    },
    "id": "c3Jqx-hy_VWJ",
    "outputId": "32b6a590-71ee-43bf-f3d7-9684824c0c5e"
   },
   "outputs": [],
   "source": [
    "x = np.linspace(0, 10, 10)\n",
    "plt.plot(np.concatenate((-x,x)), np.concatenate(((-x)**2,x**2)), 'mD--')\n",
    "plt.plot(np.concatenate((-x,x)), np.concatenate(((-x)**3,x**3)), 'cd-')"
   ]
  },
  {
   "cell_type": "code",
   "execution_count": null,
   "metadata": {
    "colab": {
     "base_uri": "https://localhost:8080/",
     "height": 503
    },
    "colab_type": "code",
    "executionInfo": {
     "elapsed": 719,
     "status": "ok",
     "timestamp": 1566424660962,
     "user": {
      "displayName": "Martin Soko",
      "photoUrl": "https://lh3.googleusercontent.com/a-/AAuE7mB49KDH9U9UtjIU6-NzSX3GgsCcCcSc0iwMPsLF=s64",
      "userId": "09674850801791942615"
     },
     "user_tz": 180
    },
    "id": "hFC-gA1N_yhq",
    "outputId": "78e32193-765e-4b31-f0c7-6334571674be"
   },
   "outputs": [],
   "source": [
    "#Podemos agrandar el gráfico usando el parámetro figsize\n",
    "plt.figure(figsize=(8, 8))\n",
    "plt.plot(np.concatenate((-x,x)), np.concatenate(((-x)**2,x**2)), 'mD')\n",
    "plt.plot(np.concatenate((-x,x)), np.concatenate(((-x)**3,x**3)), 'cd')\n"
   ]
  },
  {
   "cell_type": "markdown",
   "metadata": {},
   "source": [
    "### Ejemplo donde se aplican diferentes objetos:\n",
    "\n",
    "Tipos de líneas, colores, marcadores, leyenda, textos en los ejes, malla y se guarda la figura en Matplolib:"
   ]
  },
  {
   "cell_type": "code",
   "execution_count": null,
   "metadata": {},
   "outputs": [],
   "source": [
    "#Seteamos los parametros \n",
    "a = np.linspace(0,20,50)\n",
    "b= np.sin(a)\n",
    "c=plt.plot(a, b, 'c-3', linewidth = 2)\n",
    "c=plt.plot(a+0.2, b-1, 'r-o', linewidth = 2)\n",
    "\n",
    "# Objetos de la grafica\n",
    "plt.xlabel(\"Tiempo (s)\", fontsize = 20)\n",
    "plt.ylabel(r\"$y (\\mu m)$\", fontsize = 24, color = 'blue')\n",
    "plt.text(0, 2, \"Descripcion de la grafica, donde nosotros podemos explicar o comentar\", fontsize = 20)\n",
    "plt.title(\"velocidad (m/s)\", fontsize = 20)\n",
    "plt.legend( ('Etiqueta1', 'Etiqueta2', 'Etiqueta3'), loc = 'upper left')\n",
    "plt.grid(True)\n",
    "plt.savefig('figura3.png', dpi = 300) #guarda la gráfica con 300dpi (puntos por pulgada)\n",
    "plt.show()"
   ]
  },
  {
   "cell_type": "markdown",
   "metadata": {},
   "source": [
    "### Ejemplo de subplot"
   ]
  },
  {
   "cell_type": "code",
   "execution_count": null,
   "metadata": {},
   "outputs": [],
   "source": [
    "#Seteamos los parametros\n",
    "a = np.linspace(0,20,50)\n",
    "b= np.sin(a)\n",
    "plt.figure()\n",
    "\n",
    "# plot 1\n",
    "plt.subplot(2,2,1)\n",
    "plt.plot(a, b,'r')\n",
    "\n",
    "# Segunda grafica\n",
    "plt.subplot(2,2,2)\n",
    "plt.plot(a+2, b*25,'g')\n",
    "\n",
    "# Tercera grafica\n",
    "plt.subplot(2,2,3)\n",
    "plt.plot(b, a,'b')\n",
    "\n",
    "# Cuarta grafica\n",
    "plt.subplot(2,2,4)\n",
    "plt.plot(a, b,'k')\n",
    "\n",
    "# Mostramos en pantalla\n",
    "plt.show()"
   ]
  },
  {
   "cell_type": "markdown",
   "metadata": {
    "colab_type": "text",
    "id": "EYdJpxdIACwL"
   },
   "source": [
    "## Bar Plot\n",
    "\n",
    "También podemos generar gráficos de barras como el siguiente:\n"
   ]
  },
  {
   "cell_type": "code",
   "execution_count": null,
   "metadata": {
    "colab": {
     "base_uri": "https://localhost:8080/",
     "height": 287
    },
    "colab_type": "code",
    "executionInfo": {
     "elapsed": 631,
     "status": "ok",
     "timestamp": 1566424704777,
     "user": {
      "displayName": "Martin Soko",
      "photoUrl": "https://lh3.googleusercontent.com/a-/AAuE7mB49KDH9U9UtjIU6-NzSX3GgsCcCcSc0iwMPsLF=s64",
      "userId": "09674850801791942615"
     },
     "user_tz": 180
    },
    "id": "qbaMosVmBtYP",
    "outputId": "ab5dc04d-2c75-4deb-f8dd-e10d75961555"
   },
   "outputs": [],
   "source": [
    "plt.bar([0,1,2,3], [10, 15, 12, 8])"
   ]
  },
  {
   "cell_type": "markdown",
   "metadata": {
    "colab_type": "text",
    "id": "HcRsWO8EBynD"
   },
   "source": [
    "En este caso, tenemos que especificar el eje X y la altura de cada una de las barras.\n",
    "El eje X puede ser una lista de valores o las etiquetas de cada categoría.\n"
   ]
  },
  {
   "cell_type": "code",
   "execution_count": null,
   "metadata": {
    "colab": {
     "base_uri": "https://localhost:8080/",
     "height": 287
    },
    "colab_type": "code",
    "executionInfo": {
     "elapsed": 619,
     "status": "ok",
     "timestamp": 1566424785700,
     "user": {
      "displayName": "Martin Soko",
      "photoUrl": "https://lh3.googleusercontent.com/a-/AAuE7mB49KDH9U9UtjIU6-NzSX3GgsCcCcSc0iwMPsLF=s64",
      "userId": "09674850801791942615"
     },
     "user_tz": 180
    },
    "id": "0dJ2NnB-B4bj",
    "outputId": "d969de2d-9174-441c-dc6e-c61d9950b09e"
   },
   "outputs": [],
   "source": [
    "plt.bar(['Equipo 1', 'Equipo 2'], [10, 15])"
   ]
  },
  {
   "cell_type": "markdown",
   "metadata": {
    "colab_type": "text",
    "id": "4v-i1xItCtuh"
   },
   "source": [
    "Qué pasa si graficamos 2 barras para cada valor?"
   ]
  },
  {
   "cell_type": "code",
   "execution_count": null,
   "metadata": {
    "colab": {
     "base_uri": "https://localhost:8080/",
     "height": 287
    },
    "colab_type": "code",
    "executionInfo": {
     "elapsed": 722,
     "status": "ok",
     "timestamp": 1566424835608,
     "user": {
      "displayName": "Martin Soko",
      "photoUrl": "https://lh3.googleusercontent.com/a-/AAuE7mB49KDH9U9UtjIU6-NzSX3GgsCcCcSc0iwMPsLF=s64",
      "userId": "09674850801791942615"
     },
     "user_tz": 180
    },
    "id": "wDS81BttB_DL",
    "outputId": "16a74da0-4cb6-4b0e-bb04-bdb9bf7ca493"
   },
   "outputs": [],
   "source": [
    "plt.bar(['Equipo 1', 'Equipo 2'], [8, 5])\n",
    "plt.bar(['Equipo 1', 'Equipo 2'], [10, 15])\n"
   ]
  },
  {
   "cell_type": "markdown",
   "metadata": {
    "colab_type": "text",
    "id": "0geS0hgUCLUz"
   },
   "source": [
    "Vemos que se superponen los valores y el gráfico no queda bien. \n",
    "Tenemos 2 alternativas para graficar varias barras juntas:\n",
    "-Apliarlas\n",
    "-Agruparlas"
   ]
  },
  {
   "cell_type": "code",
   "execution_count": null,
   "metadata": {
    "colab": {
     "base_uri": "https://localhost:8080/",
     "height": 287
    },
    "colab_type": "code",
    "executionInfo": {
     "elapsed": 611,
     "status": "ok",
     "timestamp": 1566424944599,
     "user": {
      "displayName": "Martin Soko",
      "photoUrl": "https://lh3.googleusercontent.com/a-/AAuE7mB49KDH9U9UtjIU6-NzSX3GgsCcCcSc0iwMPsLF=s64",
      "userId": "09674850801791942615"
     },
     "user_tz": 180
    },
    "id": "kVh7GFmDDBE7",
    "outputId": "d53ca812-8c9d-46e5-f706-6334098366c7"
   },
   "outputs": [],
   "source": [
    "# Apilados\n",
    "plt.bar(['Equipo 1', 'Equipo 2'], [10, 15])\n",
    "plt.bar(['Equipo 1', 'Equipo 2'], [8, 5], bottom = [10, 15]) # \"Levantamos el segundo gráfico\""
   ]
  },
  {
   "cell_type": "code",
   "execution_count": null,
   "metadata": {
    "colab": {
     "base_uri": "https://localhost:8080/",
     "height": 409
    },
    "colab_type": "code",
    "executionInfo": {
     "elapsed": 608,
     "status": "ok",
     "timestamp": 1566425327481,
     "user": {
      "displayName": "Martin Soko",
      "photoUrl": "https://lh3.googleusercontent.com/a-/AAuE7mB49KDH9U9UtjIU6-NzSX3GgsCcCcSc0iwMPsLF=s64",
      "userId": "09674850801791942615"
     },
     "user_tz": 180
    },
    "id": "ZmK11MQHDLfj",
    "outputId": "24b3135f-41e0-42cb-d164-0d8e61bc4666"
   },
   "outputs": [],
   "source": [
    "#Agrupados\n",
    "\n",
    "fig, ax = plt.subplots(figsize=(8,6))\n",
    "\n",
    "ancho = 0.3 #Seteamos el ancho de las barras\n",
    "x = np.array([0,1]) #Seteamos el eje X\n",
    "etiquetas_x = ['Equipo 1', 'Equipo 2'] #Seteamos las etiquetas\n",
    "valores_1 = [10, 15] # Seteamos los valores para la primera barra\n",
    "valores_2 = [8, 5] # Seteamos los valores para la segunda barra\n",
    "\n",
    "ax.bar(x, height=valores_1, width=ancho)\n",
    "ax.bar(x+ancho, height=valores_2, width=ancho)\n",
    "ax.set_xlabel('Equipos')\n",
    "ax.set_xticks(x+ancho/2)\n",
    "ax.set_xticklabels(('Equipo 1', 'Equipo 2'))\n",
    "\n"
   ]
  },
  {
   "cell_type": "markdown",
   "metadata": {
    "colab_type": "text",
    "id": "ThnsF3NOFa5b"
   },
   "source": [
    "Como vemos, matplotlib es muy poderoso, pero cuando queremos hacer gráficos customizados se vuelve más complejo. Por eso es importante leer la documentación y buscar ejemplos en internet que nos ayuden a hacer lo que queremos graficar."
   ]
  },
  {
   "cell_type": "markdown",
   "metadata": {
    "colab_type": "text",
    "id": "LZVkF50iD-Ea"
   },
   "source": [
    "## Historgrama\n",
    "\n",
    "\n",
    "Es un grafico de la representación de distribuciones de frecuencias, en el que se emplean rectángulos dentro de unas coordenadas.\n",
    "\n",
    "### Variables, Graficos de Barras e Histogramas\n",
    "\n",
    "A primera vista pueden parecer muy similares, pero si nos fijamos bien existen claras diferencias entre ambos tipos de gráficos, que encierran conceptos totalmente diferentes.\n",
    "\n",
    "Ya sabemos que hay distintos `tipos de variables`. Por un lado están las `cuantitativas`, que pueden ser continuas o discretas. Las `continuas` son aquellas que pueden tomar un valor cualquiera dentro de un intervalo, como ocurre con el peso o la presión arterial (en la práctica pueden limitarse los valores posibles debido a la precisión de los aparatos de medida, pero en la teoría podemos encontrar cualquier valor de peso entre el mínimo y máximo de una distribución). Las `discretas` son las que solo pueden adoptar ciertos valores dentro de un conjunto como, por ejemplo, el número de hijos o el número de episodios de isquemia coronaria.\n",
    "\n",
    "Por otra parte están las variables `cualitativas`, que representan atributos o categorías de la variable. Cuando las variable no incluye ningún sentido de orden, se dice que es cualitativa `nominal`, mientras que si se puede establecer cierto orden entre las categorías diríamos que es cualitativa `ordinal`. Por ejemplo, la variable fumador sería cualitativa nominal si tiene dos posibilidades: sí o no. Sin embargo, si la definimos como ocasional, poco fumador, moderado o muy fumador, ya existe cierta jerarquía y hablamos de variable cualitativa ordinal.\n",
    "\n",
    "Pues bien, el `diagrama de barras` sirve para representar las variables cualitativas ordinales. En el eje horizontal se representan las diferentes categorías y sobre él se levantan unas columnas o barras cuya altura es proporcional a la frecuencia de cada categoría. También podríamos utilizar este tipo de gráfico para representar variables cuantitativas discretas, pero lo que no es correcto hacer es usarlo para las variables cualitativas nominales.\n",
    "\n",
    "El gran mérito del diagrama de barras es expresar la magnitud de las diferencias entre las categorías de la variable. Pero ahí está precisamente, su punto débil, ya que son fácilmente manipulables si modificamos los ejes. \n",
    "\n",
    "Cambiando de tema, el `histograma` es un gráfico con un significado mucho más profundo. Un histograma representa una distribución de frecuencias que se utiliza (o debe) para representar la frecuencia de las variables cuantitativas continuas. Aquí no es la altura, sino el área de la barra lo que es proporcional a la frecuencia de ese intervalo, y está en relación con la probabilidad con la que cada intervalo puede presentarse. Las columnas, a diferencia del diagrama de barras, están todas juntas y el punto medio es el que da el nombre al intervalo. Los intervalos no tienen por qué ser todos iguales (aunque es lo más habitual), pero siempre tendrán un área mayor aquellos intervalos con mayor frecuencia.\n",
    "\n",
    "Existe, además, otra diferencia muy importante entre el diagrama de barras y el histograma. En el primero solo se representan los valores de las variables que hemos observado al hacer el estudio. Sin embargo, el histograma va mucho más allá, ya que representa todos los valores posibles que existen dentro de los intervalos, aunque no hayamos observado ninguno de forma directa. Permite así calcular la probabilidad de que se represente cualquier valor de la distribución, lo que es de gran importancia si queremos hacer inferencia y estimar valores de la población a partir de los resultados de nuestra muestra."
   ]
  },
  {
   "cell_type": "code",
   "execution_count": 16,
   "metadata": {
    "colab": {},
    "colab_type": "code",
    "id": "aDr97krCQpNZ"
   },
   "outputs": [],
   "source": [
    "data = np.random.randn(1000)"
   ]
  },
  {
   "cell_type": "code",
   "execution_count": 18,
   "metadata": {
    "colab": {
     "base_uri": "https://localhost:8080/",
     "height": 269
    },
    "colab_type": "code",
    "executionInfo": {
     "elapsed": 1635,
     "status": "ok",
     "timestamp": 1566428876201,
     "user": {
      "displayName": "Martin Soko",
      "photoUrl": "https://lh3.googleusercontent.com/a-/AAuE7mB49KDH9U9UtjIU6-NzSX3GgsCcCcSc0iwMPsLF=s64",
      "userId": "09674850801791942615"
     },
     "user_tz": 180
    },
    "id": "GyuwkWk0aL30",
    "outputId": "97994a71-79c3-413d-98de-c7589f796573"
   },
   "outputs": [
    {
     "data": {
      "image/png": "[encoded data removed]",
      "text/plain": [
       "<Figure size 432x288 with 1 Axes>"
      ]
     },
     "metadata": {
      "needs_background": "light"
     },
     "output_type": "display_data"
    }
   ],
   "source": [
    "nbins=10\n",
    "n, bins, _ = plt.hist(data, bins='auto')"
   ]
  },
  {
   "cell_type": "code",
   "execution_count": null,
   "metadata": {
    "colab": {
     "base_uri": "https://localhost:8080/",
     "height": 70
    },
    "colab_type": "code",
    "executionInfo": {
     "elapsed": 1143,
     "status": "ok",
     "timestamp": 1566428881985,
     "user": {
      "displayName": "Martin Soko",
      "photoUrl": "https://lh3.googleusercontent.com/a-/AAuE7mB49KDH9U9UtjIU6-NzSX3GgsCcCcSc0iwMPsLF=s64",
      "userId": "09674850801791942615"
     },
     "user_tz": 180
    },
    "id": "yJk81J00aam6",
    "outputId": "e54517af-d054-4fae-e1e5-001bc60edd3f"
   },
   "outputs": [],
   "source": [
    "n"
   ]
  },
  {
   "cell_type": "code",
   "execution_count": null,
   "metadata": {
    "colab": {
     "base_uri": "https://localhost:8080/",
     "height": 287
    },
    "colab_type": "code",
    "executionInfo": {
     "elapsed": 672,
     "status": "ok",
     "timestamp": 1566428891048,
     "user": {
      "displayName": "Martin Soko",
      "photoUrl": "https://lh3.googleusercontent.com/a-/AAuE7mB49KDH9U9UtjIU6-NzSX3GgsCcCcSc0iwMPsLF=s64",
      "userId": "09674850801791942615"
     },
     "user_tz": 180
    },
    "id": "P4HhnihvbaO7",
    "outputId": "90c01c90-a989-4487-c87c-035e869cfbd2"
   },
   "outputs": [],
   "source": [
    "plt.bar(x=list(range(len(n))), height=n)"
   ]
  },
  {
   "cell_type": "markdown",
   "metadata": {
    "colab": {},
    "colab_type": "code",
    "id": "UijOfmhebrjA"
   },
   "source": [
    "## Otros ejemplos de graficos\n",
    "\n",
    "\n",
    "### Scatter Plot\n"
   ]
  },
  {
   "cell_type": "code",
   "execution_count": null,
   "metadata": {},
   "outputs": [],
   "source": [
    "\n",
    "n = 1000\n",
    "X = np.random.normal(0,1,n)\n",
    "Y = np.random.normal(0,1,n) \n",
    "T = np.arctan2(Y,X)\n",
    "plt.figure(figsize=(8,6))\n",
    "\n",
    "plt.axes([0.025, 0.025, 0.95, 0.95])\n",
    "plt.scatter(X,Y, s=75, c=T, alpha=0.5, edgecolor='black'  )\n",
    "\n",
    "limite = 2.5\n",
    "plt.xlim(-limite, limite), plt.xticks([])\n",
    "plt.ylim(-limite, limite), plt.yticks([])\n",
    "\n",
    "plt.show()\n"
   ]
  },
  {
   "cell_type": "markdown",
   "metadata": {},
   "source": [
    "### Pie Plot"
   ]
  },
  {
   "cell_type": "code",
   "execution_count": null,
   "metadata": {},
   "outputs": [],
   "source": [
    "n = 7\n",
    "Z = np.ones(n)\n",
    "Z[-1] *= 2\n",
    "\n",
    "plt.axes([0.025, 0.025, 0.95, 0.95])\n",
    "\n",
    "plt.pie(Z, explode=Z* .07, colors='rw',\n",
    "        wedgeprops={\"linewidth\": 2, \"edgecolor\": \"black\"})\n",
    "plt.gca().set_aspect('equal')\n",
    "plt.show()"
   ]
  },
  {
   "cell_type": "markdown",
   "metadata": {},
   "source": [
    "## Cambios en los ejes\n",
    "#### Graficos mas avanzados"
   ]
  },
  {
   "cell_type": "code",
   "execution_count": null,
   "metadata": {},
   "outputs": [],
   "source": [
    "x = np.linspace(-np.pi, np.pi, 256, endpoint=True)\n",
    "S, C = np.sin(x), np.cos(x)"
   ]
  },
  {
   "cell_type": "code",
   "execution_count": null,
   "metadata": {},
   "outputs": [],
   "source": [
    "# Graficos de seno y coseno de pi\n",
    "plt.plot(x, S, color= \"black\", linewidth = 1.2, linestyle = \"-.\", label=\"Seno\")\n",
    "plt.plot(x, C, color = \"red\", linewidth = 0.9, linestyle = \"--\", label= \"Coseno\")\n",
    "\n",
    "# Limite de los graficos\n",
    "plt.xlim(S.min()*1.2, S.max()*1.2)\n",
    "plt.ylim(S.min()*1.1, S.max()*1.1)\n",
    "\n",
    "plt.grid(True)\n",
    "\n",
    "#Modificar inscripciones y marcas de los ejes\n",
    "plt.xticks([-np.pi, -np.pi/2, 0, np.pi/2, np.pi], \n",
    "          [r'$-\\pi$', r'$-\\pi/2$', r'$-0$', r'$+\\pi/2$', r'$+\\pi$', ])\n",
    "plt.yticks(np.linspace(-1.2, 1.2, 3, endpoint=True),\n",
    "          ['menos uno', '', '1'])\n",
    "\n",
    "\n",
    "#Modificar ejes (al centro del grafico, color y borrar linea)\n",
    "ax = plt.gca()\n",
    "ax.spines['right'].set_color('none')\n",
    "ax.spines['top'].set_color('none')\n",
    "ax.xaxis.set_ticks_position('bottom')\n",
    "ax.spines['bottom'].set_position(('data', 0))\n",
    "ax.yaxis.set_ticks_position('left')\n",
    "ax.spines['left'].set_position(('data', 0))\n",
    "\n",
    "#LEYENDA DEL GRAFICO\n",
    "plt.legend(loc=\"upper left\")\n",
    "\n",
    "\n",
    "# MARCAR UNA LINEA EN EL GRAFICO DEL SENO (LINEA)\n",
    "x0 = 2*np.pi/3\n",
    "plt.plot([x0,x0], [0, np.sin(x0)], color=\"blue\", linewidth=2.5)\n",
    "\n",
    "# Marca un punto en el grafico\n",
    "\n",
    "plt.scatter([x0, ], [np.sin(x0), ], 50, color=\"green\")\n",
    "\n",
    "# Texto para la marca del grafico y flecha\n",
    "plt.annotate(\"punto del seno\",\n",
    "            xy = (x0, np.sin(x0)), xycoords = \"data\",\n",
    "            xytext = (+10,+10), textcoords = 'offset points',\n",
    "            fontsize= 16,\n",
    "            arrowprops = dict(arrowstyle = \"->\"))\n",
    "\n",
    "\n",
    "#COSENO\n",
    "x0 = 2*np.pi/3\n",
    "plt.plot([x0,x0], [0, np.cos(x0)], color=\"green\", linewidth=2.5)\n",
    "plt.scatter([x0, ], [np.cos(x0), ], 50, color=\"purple\")\n",
    "plt.annotate(\"punto del coseno\",\n",
    "            xy = (x0, np.cos(x0)), xycoords = \"data\",\n",
    "            xytext = (+20,+10), textcoords = 'offset points',\n",
    "            fontsize= 16,\n",
    "            arrowprops = dict(arrowstyle = \"->\"))\n",
    "\n",
    "\n",
    "#Modificar las etiquetas de los ejes \n",
    "for label in ax.get_xticklabels() + ax.get_yticklabels():\n",
    "    label.set_fontsize(12)\n",
    "    label.set_bbox(dict(facecolor = \"yellow\", edgecolor= \"None\",  alpha=0.8))\n",
    "\n",
    "\n",
    "\n",
    "plt.show()"
   ]
  },
  {
   "cell_type": "markdown",
   "metadata": {},
   "source": [
    "## Ejercicios"
   ]
  },
  {
   "cell_type": "markdown",
   "metadata": {},
   "source": [
    "* Crea un grafico con una recta con etiquetas en los ejes (x, y) y con titulo."
   ]
  },
  {
   "cell_type": "code",
   "execution_count": 19,
   "metadata": {},
   "outputs": [
    {
     "data": {
      "image/png": "[encoded data removed]",
      "text/plain": [
       "<Figure size 432x288 with 1 Axes>"
      ]
     },
     "metadata": {
      "needs_background": "light"
     },
     "output_type": "display_data"
    }
   ],
   "source": [
    "#Parametros\n",
    "X = range(1, 50)\n",
    "Y = [value * 3 for value in X]\n",
    "\n",
    "\n",
    "plt.plot(X, Y)\n",
    "\n",
    "# Etiquetas\n",
    "plt.xlabel('x - axis')\n",
    "plt.ylabel('y - axis')\n",
    "\n",
    "# Titulo\n",
    "plt.title('Esto es una recta.')\n",
    "\n",
    "# Mostrar figura\n",
    "plt.show()"
   ]
  },
  {
   "cell_type": "markdown",
   "metadata": {},
   "source": [
    "* Crea un grafico igual al ejemplo de la imagen:\n",
    "<img src=\"ejercicio2.png\">"
   ]
  },
  {
   "cell_type": "code",
   "execution_count": null,
   "metadata": {},
   "outputs": [],
   "source": [
    "# Valores de eje X\n",
    "x = [1,2,3]\n",
    "# Valores de eje Y\n",
    "y = [2,4,1]\n",
    "# Lineas\n",
    "plt.plot(x, y)\n",
    "# Etiqueta X\n",
    "plt.xlabel('x - axis')\n",
    "# Etiqueta Y.\n",
    "plt.ylabel('y - axis')\n",
    "# Titulo\n",
    "plt.title('Sample graph!')\n",
    "# Mostrar figura\n",
    "plt.show()"
   ]
  },
  {
   "cell_type": "markdown",
   "metadata": {},
   "source": [
    "* Crea un grafico igual al ejemplo de la imagen:\n",
    "<img src=\"ejercicio3.png\">"
   ]
  },
  {
   "cell_type": "code",
   "execution_count": null,
   "metadata": {},
   "outputs": [],
   "source": [
    "\n",
    "# linea 1\n",
    "x1 = [10,20,30]\n",
    "y1 = [20,40,10]\n",
    "\n",
    "\n",
    "# plotting linea 1\n",
    "plt.plot(x1, y1, label = \"line 1\")\n",
    "\n",
    "\n",
    "# linea 2\n",
    "x2 = [10,20,30]\n",
    "y2 = [40,10,30]\n",
    "\n",
    "\n",
    "# plotting linea 2 \n",
    "plt.plot(x2, y2, label = \"line 2\", c=\"g\")\n",
    "\n",
    "\n",
    "# Etiquetas\n",
    "plt.xlabel('x - axis')\n",
    "plt.ylabel('y - axis')\n",
    "\n",
    "\n",
    "# Titulo\n",
    "plt.title('Two or more lines on same plot with suitable legends ')\n",
    "\n",
    "\n",
    "# Mostrar leyenda en el plot\n",
    "plt.legend()\n",
    "# Mostrar el plot\n",
    "plt.show()"
   ]
  },
  {
   "cell_type": "markdown",
   "metadata": {},
   "source": [
    "* Crea un grafico igual al ejemplo de la imagen:\n",
    "<img src=\"ejercicio4.png\">"
   ]
  },
  {
   "cell_type": "code",
   "execution_count": null,
   "metadata": {},
   "outputs": [],
   "source": [
    "# Eje X\n",
    "x = [1,4,5,6,7]\n",
    "# Eje Y\n",
    "y = [2,6,3,6,3]\n",
    "\n",
    "# Plotting Puntos \n",
    "plt.plot(x, y, color='red', linestyle='dashdot', linewidth = 3,\n",
    "         marker='o', markerfacecolor='blue', markersize=12)\n",
    "\n",
    "\n",
    "#Limite de ejes.\n",
    "plt.ylim(1,8)\n",
    "plt.xlim(1,8)\n",
    "\n",
    "# Etiquetas\n",
    "plt.xlabel('x - axis')\n",
    "plt.ylabel('y - axis')\n",
    "\n",
    "#Titulo\n",
    "plt.title('Display marker')\n",
    "\n",
    "# Mostrar Grafico\n",
    "plt.show()"
   ]
  },
  {
   "cell_type": "code",
   "execution_count": null,
   "metadata": {},
   "outputs": [],
   "source": []
  }
 ],
 "metadata": {
  "colab": {
   "collapsed_sections": [],
   "name": "Visualización básica con Matplotlib.ipynb",
   "provenance": [],
   "version": "0.3.2"
  },
  "kernelspec": {
   "display_name": "Python 3",
   "language": "python",
   "name": "python3"
  },
  "language_info": {
   "codemirror_mode": {
    "name": "ipython",
    "version": 3
   },
   "file_extension": ".py",
   "mimetype": "text/x-python",
   "name": "python",
   "nbconvert_exporter": "python",
   "pygments_lexer": "ipython3",
   "version": "3.8.5"
  }
 },
 "nbformat": 4,
 "nbformat_minor": 1
}
