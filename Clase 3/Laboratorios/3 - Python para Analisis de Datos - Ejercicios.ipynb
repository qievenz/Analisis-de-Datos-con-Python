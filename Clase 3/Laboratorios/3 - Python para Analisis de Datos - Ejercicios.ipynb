{
 "cells": [
  {
   "cell_type": "markdown",
   "metadata": {},
   "source": [
    "# Curso de Python para Analisis de Datos\n",
    "\n",
    "\n",
    "## Clase 3\n",
    "\n",
    "\n",
    "#### Indice:\n",
    "        Manipulacion de variables\n",
    "        Funciones\n",
    "        Argumentos\n",
    "        Valor de retorno\n",
    "        Diccionarios\n",
    "        Tuplas\n",
    "        \n",
    "   "
   ]
  },
  {
   "cell_type": "markdown",
   "metadata": {},
   "source": [
    "## MANIPULACIÓN DE VARIABLES\n",
    "En Python, toda variable se considera un objeto. Sobre cada objeto, pueden realizarse diferentes tipos de acciones denominadas métodos. Los métodos son funciones pero que se desprenden de una variable. Por ello, se accede a estas funciones mediante la sintaxis:\n",
    "\n",
    "`variable.funcion()`\n",
    "\n",
    "En algunos casos, estos métodos (funciones de un objeto), aceptarán parámetros como cualquier otra función.\n",
    "\n",
    "`variable.funcion(parametro)`"
   ]
  },
  {
   "cell_type": "code",
   "execution_count": null,
   "metadata": {},
   "outputs": [],
   "source": []
  },
  {
   "cell_type": "markdown",
   "metadata": {},
   "source": [
    "## Funciones\n",
    "\n",
    "Las funciones nos permiten agrupar una o más líneas de código bajo un mismo nombre. Su objetivo principal es el de evitar la repetición de código, haciendo de un archivo de código de\n",
    "fuente más claro, legible y fácil de mantener."
   ]
  },
  {
   "cell_type": "code",
   "execution_count": null,
   "metadata": {},
   "outputs": [],
   "source": [
    "# Por ejemplo consideremos este programa:\n",
    "print(\"¡Hola mundo!\")\n",
    "print(\"Desde Python.\")\n",
    "a = 5\n",
    "b = 7\n",
    "c = a * b\n",
    "print(c)\n",
    "print(\"¡Hola mundo!\")\n",
    "print(\"Desde Python.\")"
   ]
  },
  {
   "cell_type": "markdown",
   "metadata": {},
   "source": [
    "Es algo muy común que algunas porciones de código se repitan en distintas partes de un programa, como es el caso aquí de las primeras y últimas dos líneas. Para evitar esto, lo que\n",
    "se hace es darle un nombre a las líneas repetidas creando así una `función`. La sintaxis, siguiendo el ejemplo anterior, es la siguiente:"
   ]
  },
  {
   "cell_type": "code",
   "execution_count": null,
   "metadata": {},
   "outputs": [],
   "source": [
    "def mi_funcion():\n",
    "    print(\"¡Hola mundo!\")\n",
    "    print(\"Desde Python.\")"
   ]
  },
  {
   "cell_type": "markdown",
   "metadata": {},
   "source": [
    "La creación de una función requiere de la palabra reservada **`def`** , seguida de un nombre a elección, un par de paréntesis (que más adelante veremos para qué sirven) y dos puntos. El bloque de código dentro de la función debe tener sangría, tal como ocurría con los bucles y los condicionales.\n",
    "\n",
    "Ahora que tenemos esta función, en los lugares donde hacíamos uso de esas dos líneas simplemente pondremos `mi_funcion()` ."
   ]
  },
  {
   "cell_type": "code",
   "execution_count": null,
   "metadata": {},
   "outputs": [],
   "source": [
    "def mi_funcion():\n",
    "    print(\"¡Hola mundo!\")\n",
    "    print(\"Desde Python.\")\n",
    "    \n",
    "    \n",
    "mi_funcion()\n",
    "\n",
    "a = 5\n",
    "b = 7\n",
    "c = a * b\n",
    "print(c)\n",
    "\n",
    "mi_funcion()"
   ]
  },
  {
   "cell_type": "markdown",
   "metadata": {},
   "source": [
    "En todos los lugares donde aparezca el nombre de una `función` junto a un par de paréntesis, Python ejecutará las líneas de código que se encuentran dentro de ella. A esto lo denominamos llamar (o **invocar**) a una función ."
   ]
  },
  {
   "cell_type": "code",
   "execution_count": null,
   "metadata": {},
   "outputs": [],
   "source": [
    "# Si modificamos el código de nuestra función de esta manera:\n",
    "def mi_funcion():\n",
    "    print(\"¡Hola mundo!\")\n",
    "    print(\"Desde Python.\")\n",
    "    print(\"Y Geany.\")\n",
    "    \n",
    "#Veremos que en ambas llamadas a mi_funcion() , ahora se ejecutan tres líneas en lugar de dos."
   ]
  },
  {
   "cell_type": "markdown",
   "metadata": {},
   "source": [
    "## Argumentos\n",
    "\n",
    "Cambiemos el ejemplo y consideremos ahora el siguiente código:"
   ]
  },
  {
   "cell_type": "code",
   "execution_count": null,
   "metadata": {},
   "outputs": [],
   "source": [
    "alumnos = [\"Pablo\", \"Juan\", \"Matias\", \"Martin\"]\n",
    "notas = [5.5, 9, 6.25, 8]\n",
    "\n",
    "print(\"Alumnos:\")\n",
    "for alumno in alumnos:\n",
    "    print(alumno)\n",
    "    \n",
    "print(\"Notas:\")\n",
    "for nota in notas:\n",
    "    print(nota)"
   ]
  },
  {
   "cell_type": "markdown",
   "metadata": {},
   "source": [
    "En este caso también tenemos cierta repitencia: los bucles `for` son muy similares, aunque cambia el nombre de la `lista` sobre la que se aplican. No obstante, el método es siempre el mismo: recorrer cada uno de los elementos de la lista e imprimirlos en pantalla vía `print()` **(a partir de ahora, cuando indicamos paréntesis luego del nombre de una instrucción en este material, querremos decir que se trata de una función).**\n",
    "\n",
    "\n",
    "Si tuviésemos que hacer una versión genérica de ese bucle “for”, podríamos expresarla así:\n",
    "\n",
    "       - for elemento in lista:\n",
    "             print(elemento)\n",
    "             \n",
    "Donde lista puede ser alumnos o notas , o bien cualquier otra lista de la cual queramos imprimir sus elementos. Esto bien podemos hacerlo en una `función`:\n",
    "\n",
    "    - def imprimir_elementos(lista):\n",
    "         for elemento in lista:\n",
    "             print(elemento)"
   ]
  },
  {
   "cell_type": "markdown",
   "metadata": {},
   "source": [
    "Lo que hacemos aquí es indicar entre paréntesis aquellas variables (que llevan el nombre de argumentos de una función) que serán “llenadas” por el usuario al momento de llamar a la función. Como en nuestro caso aún no sabemos cuál es la lista que se querrá imprimir, simplemente ponemos un nombre genérico lista ."
   ]
  },
  {
   "cell_type": "code",
   "execution_count": null,
   "metadata": {},
   "outputs": [],
   "source": [
    "#Ahora nuestro código se vería así:\n",
    "\n",
    "def imprimir_elementos(lista):\n",
    "    for elemento in lista:\n",
    "        print(elemento)\n",
    "\n",
    "alumnos = [\"Pablo\", \"Juan\", \"Matias\", \"Martin\"]\n",
    "notas = [5.5, 9, 6.25, 8]\n",
    "\n",
    "\n",
    "print(\"Alumnos:\")\n",
    "imprimir_elementos(alumnos)\n",
    "\n",
    "\n",
    "print(\"Notas:\")\n",
    "imprimir_elementos(notas)"
   ]
  },
  {
   "cell_type": "markdown",
   "metadata": {},
   "source": [
    "En el código de la `función` se “reemplaza” lista por lo que indicamos entre paréntesis al llamarla; en este caso, la lista alumnos . Del mismo modo ocurre en el segundo caso para\n",
    "`imprimir_elementos(notas)`.\n",
    "\n",
    "\n",
    "Incluso podemos usar dicha `función` para imprimir cualquier `lista`, aunque no la hayamos guardado en una variable:"
   ]
  },
  {
   "cell_type": "code",
   "execution_count": null,
   "metadata": {},
   "outputs": [],
   "source": [
    "imprimir_elementos([1, 2, 3, 4, 5])"
   ]
  },
  {
   "cell_type": "markdown",
   "metadata": {},
   "source": [
    "Ahora bien, de nuestra función `imprimir_elementos()` decimos que requiere un **argumento**, que es el nombre de la lista.\n",
    "Una función puede tener múltiples argumentos, la cantidad que nosotros precisemos. \n",
    "\n",
    "Para indicar más de uno, separamos sus nombres por comas. Por ejemplo:"
   ]
  },
  {
   "cell_type": "code",
   "execution_count": null,
   "metadata": {},
   "outputs": [],
   "source": [
    "def imprimir_suma(a, b):\n",
    "    print(\"Resultado:\")\n",
    "    print(a + b)\n",
    "    \n",
    "\n",
    "imprimir_suma(7, 5)\n",
    "imprimir_suma(-5, 3.5)"
   ]
  },
  {
   "cell_type": "markdown",
   "metadata": {},
   "source": [
    "La función imprimir_suma() requiere dos `argumentos`, al primero de ellos le dimos el nombre a y, al segundo, b . Al momento de llamarla, indicamos en ese mismo orden los valores que queremos otorgarle, también separados por comas. (Aunque en este caso es indistinto, por cuanto en una suma el orden de los sumandos no altera el resultado)."
   ]
  },
  {
   "cell_type": "markdown",
   "metadata": {},
   "source": [
    "## Valor de retorno"
   ]
  },
  {
   "cell_type": "markdown",
   "metadata": {},
   "source": [
    "Las funciones pueden opcionalmente tener un resultado, así como vimos que lo tenía la expresión 7 + 5 o bien la instrucción `input` :\n",
    "\n",
    "*nombre = input(\"Escribe tu nombre: \")*\n",
    "\n",
    "En efecto, `input()` es una `función incorporada`. Es decir, una función que ya viene integrada con Python.\n",
    "\n",
    "El resultado de una función se establece usando la palabra reservada **`return`** . De ahí que a ese resultado también se lo conozca como valor de retorno ."
   ]
  },
  {
   "cell_type": "code",
   "execution_count": null,
   "metadata": {},
   "outputs": [],
   "source": [
    "#Ejemplo\n",
    "def sumar(a,b):\n",
    "    return a+b\n",
    "\n",
    "resultado = sumar(7,5)\n",
    "print(resultado)\n",
    "print(sumar(-5, 3.5))"
   ]
  },
  {
   "cell_type": "markdown",
   "metadata": {},
   "source": [
    "Aquí hemos creado una función `sumar()` que requiere dos argumentos y cuyo resultado es la suma de ambos.\n",
    "\n",
    "\n",
    "El valor de retorno de una `función` puede ser cualquiera de los cuatro tipos de dato básicos que vimos, así como también listas. Por ejemplo, la siguiente función simula el comportamiento de la función incorporada `range()` :"
   ]
  },
  {
   "cell_type": "code",
   "execution_count": null,
   "metadata": {},
   "outputs": [],
   "source": [
    "def rango(desde, hasta):\n",
    "    numeros = []\n",
    "    while desde < hasta:\n",
    "        numeros.append(desde)\n",
    "        desde = desde + 1\n",
    "    return numeros\n",
    "\n",
    "\n",
    "lista = rango(1, 6)\n",
    "print(lista)"
   ]
  },
  {
   "cell_type": "markdown",
   "metadata": {},
   "source": [
    "En este caso, el resultado o valor de retorno de `rango(1, 6)` es la lista [1, 2, 3, 4, 5] ."
   ]
  },
  {
   "cell_type": "markdown",
   "metadata": {},
   "source": [
    "Las funciones son una herramienta fundamental para la programación, tanto en Python como en el resto de los lenguajes. Cuanto más comprendemos su concepto, más claro se torna cuán imprescindibles son. Veremos también que el lenguaje está colmado de funciones incorporadas (tales como `int()` , `range()` , `print()` , `input()` , entre muchos otros)."
   ]
  },
  {
   "cell_type": "markdown",
   "metadata": {},
   "source": [
    "## Diccionarios\n",
    "\n",
    "Otra estructura de datos muy útil son los diccionarios. Los diccionarios en Python son un tipo de estructuras de datos que permite guardar un conjunto **no ordenado** de pares **clave-valor**, siendo las claves únicas dentro de un mismo diccionario (es decir que no pueden existir dos elementos con una misma clave).\n",
    "\n",
    "En Python, los diccionarios se definen utilizando llaves `{}` y cada uno de los elementos estan separados por comas. Cada elemento lo definimos con su par clave:valor, pudiendo ser la clave y el valor de cualquier tipo (`int`, `float`, `string`, `bool`).\n",
    "\n",
    "Para crear un diccionario vamos a emplear llaves y separar sus miembros por comas, que an su vez serán pares de una clave y un valor separados por dos puntos. Por ejemplo:\n"
   ]
  },
  {
   "cell_type": "code",
   "execution_count": null,
   "metadata": {},
   "outputs": [],
   "source": [
    "alumno1 = {\"nombre\": \"Pablo\", \"cursos\": 3}"
   ]
  },
  {
   "cell_type": "markdown",
   "metadata": {},
   "source": [
    "Este código crea un diccionario de nombre alumno1 cuyas claves son \"nombre\" y \"cursos\" , y sus valores, respectivamente, \"Pablo\" y 3 . Los valores de un diccionario pueden ser de cualquier tipo de dato, incluidos otros diccionarios y listas. \n",
    "\n",
    "Las claves, en cambio, tienen ciertas restricciones (además que **no pueden repetirse**), no obstante, por lo general serán cadenas (tal como en este ejemplo) o bien números enteros.\n",
    "Para luego acceder a alguno de sus valores, simplemente indicamos la clave entre corchetes:"
   ]
  },
  {
   "cell_type": "code",
   "execution_count": null,
   "metadata": {},
   "outputs": [],
   "source": [
    "print(alumno1[\"nombre\"])\n",
    "print(alumno1[\"cursos\"])"
   ]
  },
  {
   "cell_type": "markdown",
   "metadata": {},
   "source": [
    "Del mismo modo podemos cambiar los valores:"
   ]
  },
  {
   "cell_type": "code",
   "execution_count": null,
   "metadata": {},
   "outputs": [],
   "source": [
    "alumno1[\"cursos\"] = 4"
   ]
  },
  {
   "cell_type": "markdown",
   "metadata": {},
   "source": [
    "O bien crear nuevos pares clave-valor:"
   ]
  },
  {
   "cell_type": "code",
   "execution_count": null,
   "metadata": {},
   "outputs": [],
   "source": [
    "alumno1[\"curso_actual\"] = \"Python\""
   ]
  },
  {
   "cell_type": "code",
   "execution_count": null,
   "metadata": {},
   "outputs": [],
   "source": [
    "# Usando un bucle “for” sobre un diccionario tenemos acceso a cada una de sus claves. Por ejemplo:\n",
    "for clave in alumno1:\n",
    "    print(clave)\n"
   ]
  },
  {
   "cell_type": "code",
   "execution_count": null,
   "metadata": {},
   "outputs": [],
   "source": [
    "#Si luego de cada clave queremos imprimir su valor, podemos hacer:\n",
    "for clave in alumno1:\n",
    "    print(clave)\n",
    "    print(alumno1[clave])"
   ]
  },
  {
   "cell_type": "markdown",
   "metadata": {},
   "source": [
    "Como verás, los diccionarios nos permiten crear estructuras de datos más complejas, por ejemplo, para almacenar la información de un alumno, algo que hubiese sido más engorroso de lograr usando los tipos de dato básicos o las listas."
   ]
  },
  {
   "cell_type": "markdown",
   "metadata": {},
   "source": [
    "## Tuplas\n",
    "\n",
    "Existe otro tipo de objeto llamado **tupla**. Es muy similar a las listas con la particularidad de que es *inmutable*, es decir que no podemos modificar sus elementos una vez creado.\n",
    "Sintácticamente, se diferencia de las listas utilizando paréntesis en lugar de corchetes."
   ]
  },
  {
   "cell_type": "code",
   "execution_count": null,
   "metadata": {},
   "outputs": [],
   "source": [
    "# Creamos una tupla\n",
    "mi_tupla = ('esto', 'es', 1, 'tupla')"
   ]
  },
  {
   "cell_type": "code",
   "execution_count": null,
   "metadata": {},
   "outputs": [],
   "source": [
    "#Muestra el contenido de la variable mi_tupla\n",
    "print(mi_tupla)"
   ]
  },
  {
   "cell_type": "code",
   "execution_count": null,
   "metadata": {},
   "outputs": [],
   "source": [
    "#Chequea el tipo de variable de mi_lista\n",
    "type(mi_tupla)"
   ]
  },
  {
   "cell_type": "markdown",
   "metadata": {},
   "source": [
    "Ahora intentemos modificar el valor numérico 1 por la palabra 'una'"
   ]
  },
  {
   "cell_type": "code",
   "execution_count": null,
   "metadata": {},
   "outputs": [],
   "source": [
    "mi_tupla[2]"
   ]
  },
  {
   "cell_type": "code",
   "execution_count": null,
   "metadata": {},
   "outputs": [],
   "source": [
    "mi_tupla[2] = 'una'"
   ]
  },
  {
   "cell_type": "markdown",
   "metadata": {},
   "source": [
    "Como vemos, no podemos modificar los elementos. Si queremos hacer un cambio en la tupla, debemos crearla nuevamente y sobreescribir la tupla anterior."
   ]
  },
  {
   "cell_type": "code",
   "execution_count": null,
   "metadata": {},
   "outputs": [],
   "source": [
    "mi_tupla = ('Esto', 'es', 'una', 'tupla')"
   ]
  },
  {
   "cell_type": "markdown",
   "metadata": {},
   "source": [
    "Las tuplas comparten muchas propiedades con las listas. A continuación veremos algunas:"
   ]
  },
  {
   "cell_type": "code",
   "execution_count": null,
   "metadata": {},
   "outputs": [],
   "source": [
    "#Indexación\n",
    "mi_tupla[1:]"
   ]
  },
  {
   "cell_type": "code",
   "execution_count": null,
   "metadata": {},
   "outputs": [],
   "source": [
    "#Chequear si un elemento está en la tupla\n",
    "'una' in mi_tupla"
   ]
  },
  {
   "cell_type": "code",
   "execution_count": null,
   "metadata": {},
   "outputs": [],
   "source": [
    "#Concatenación de tuplas\n",
    "mi_tupla + ('Agrego', 'elementos')"
   ]
  },
  {
   "cell_type": "code",
   "execution_count": null,
   "metadata": {},
   "outputs": [],
   "source": [
    "a = [1,2,3]\n",
    "a = tuple(a)\n",
    "a"
   ]
  },
  {
   "cell_type": "code",
   "execution_count": null,
   "metadata": {},
   "outputs": [],
   "source": [
    "a = list(a)\n",
    "a"
   ]
  },
  {
   "cell_type": "markdown",
   "metadata": {},
   "source": [
    "## Ejercicios:"
   ]
  },
  {
   "cell_type": "markdown",
   "metadata": {},
   "source": [
    "* Escribi una función que tome dos números enteros y calcule su división, devolviendo si la división es exacta o no."
   ]
  },
  {
   "cell_type": "code",
   "execution_count": null,
   "metadata": {},
   "outputs": [],
   "source": []
  },
  {
   "cell_type": "markdown",
   "metadata": {},
   "source": [
    "* Escribi una función que simule un juego en el que dos jugadores tiran un dado. El que saque el valor más alto, gana. Si la puntuación coincide, empatan."
   ]
  },
  {
   "cell_type": "code",
   "execution_count": null,
   "metadata": {},
   "outputs": [],
   "source": []
  },
  {
   "cell_type": "markdown",
   "metadata": {},
   "source": [
    "* Escribi una función que tome dos números enteros y devuelva qué número es pares y cuál impar."
   ]
  },
  {
   "cell_type": "code",
   "execution_count": null,
   "metadata": {},
   "outputs": [],
   "source": []
  },
  {
   "cell_type": "markdown",
   "metadata": {},
   "source": [
    "* Escribi una función que tome una lista de números y calcule la suma de sus elementos."
   ]
  },
  {
   "cell_type": "code",
   "execution_count": null,
   "metadata": {},
   "outputs": [],
   "source": []
  },
  {
   "cell_type": "markdown",
   "metadata": {},
   "source": [
    "* Escribi una función que tome dos palabras y diga si riman o no. Si coinciden las tres últimas letras debe devolver que riman. Si coinciden sólo las dos últimas tiene que decir que riman algo y si no, que no riman."
   ]
  },
  {
   "cell_type": "code",
   "execution_count": null,
   "metadata": {},
   "outputs": [],
   "source": []
  },
  {
   "cell_type": "markdown",
   "metadata": {},
   "source": [
    "* Escribi una función para convertir temperatura de grados celsius a fahrenheit (Formula : F = C * 9/5 + 32) "
   ]
  },
  {
   "cell_type": "code",
   "execution_count": null,
   "metadata": {},
   "outputs": [],
   "source": []
  },
  {
   "cell_type": "markdown",
   "metadata": {},
   "source": [
    "* Escribi una función que devuelva la serie de Fibonacci entre 0 y 50."
   ]
  },
  {
   "cell_type": "code",
   "execution_count": null,
   "metadata": {},
   "outputs": [],
   "source": []
  },
  {
   "cell_type": "markdown",
   "metadata": {},
   "source": [
    "**Para seguir practicando chequea este sitio web con [ejercicios](https://projecteuler.net/archives).**\n",
    "\n",
    "$c = \\sqrt{a^2 + b^2}$"
   ]
  },
  {
   "cell_type": "code",
   "execution_count": null,
   "metadata": {},
   "outputs": [],
   "source": []
  }
 ],
 "metadata": {
  "kernelspec": {
   "display_name": "Python 3",
   "language": "python",
   "name": "python3"
  },
  "language_info": {
   "codemirror_mode": {
    "name": "ipython",
    "version": 3
   },
   "file_extension": ".py",
   "mimetype": "text/x-python",
   "name": "python",
   "nbconvert_exporter": "python",
   "pygments_lexer": "ipython3",
   "version": "3.6.5"
  }
 },
 "nbformat": 4,
 "nbformat_minor": 2
}
