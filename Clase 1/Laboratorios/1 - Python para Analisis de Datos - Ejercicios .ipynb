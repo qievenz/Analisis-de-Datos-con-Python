{
 "cells": [
  {
   "cell_type": "markdown",
   "metadata": {},
   "source": [
    "# Curso de  Python para Analisis de Datos\n",
    "\n",
    "\n",
    "## Clase 1\n",
    "\n",
    "\n",
    "#### Indice:\n",
    "     Introduccion a la programación\n",
    "     Introduccion a Python\n",
    "     Python y Data Science\n",
    "     Instalacion de Python y Jupyter\n",
    "     I Python Notebook vs Python\n",
    "     Docstring y comentarios\n",
    "     Expresiones\n",
    "     Variables y estructura de datos\n",
    "     Entrada de datos (input)\n",
    "     Tipos de datos\n",
    "     Operaciones Aritmeticas\n",
    "     Operaciones Comparativas"
   ]
  },
  {
   "cell_type": "markdown",
   "metadata": {},
   "source": [
    "## Introducción a la programación:\n",
    "### Que es la programacion?\n",
    "Entendemos por programación la actividad de **programar** ; y por programar , el decirle a una\n",
    "computadora ─o, mejor dicho, cualquier dispositivo programable─ lo que tiene que hacer.\n",
    "De modo que la programación es un tipo de **comunicación**, comunicación entre un hombre\n",
    "(el programador) y una máquina (la que es programada). Y como todo tipo de comunicación,\n",
    "precisa de un **lenguaje** que sea comprendido tanto por el emisor como por el receptor. A ese\n",
    "lenguaje lo denominamos lenguaje de programación . El **mensaje** codificado según las reglas\n",
    "de un lenguaje de programación lo llamamos programa o aplicación.\n",
    "\n",
    "Existen muchos **lenguajes de programación**, esto es, como dijimos, medios de comunicación\n",
    "entre un programador y una computadora. Cada uno de ellos se caracteriza por algo en\n",
    "particular: en el proceso de **“instruir”** a una máquina para que ejecute las acciones que le\n",
    "indicamos, algunos lenguajes son más óptimos o acordes que otros para tal o cual tarea. Así,\n",
    "ciertos lenguajes están pensados para “hablarle” a un celular; otros, a una computadora de\n",
    "escritorio; otros, a un microondas. Y algunos son más fáciles de aprender, del mismo modo\n",
    "como decimos que el griego y el árabe son menos accesibles que el inglés. El inglés, no\n",
    "obstante, es más acorde si nos queremos dedicar al comercio internacional; así como el\n",
    "griego lo es para el estudio de los pensadores clásicos de la antigüedad.\n",
    "\n",
    "Pero seamos un poco más precisos: no es cierto que las computadoras comprendan las\n",
    "instrucciones que les comunicamos vía un lenguaje de programación. De hecho, solo están\n",
    "diseñadas para entender un dialecto al que se denomina **código máquina** . Pero escribir un\n",
    "conjunto de instrucciones directamente en este código es simplemente imposible para un\n",
    "hombre. Por ende, necesitaremos un **“traductor”** (que no es sino un programa) que convierta\n",
    "nuestras instrucciones escritas según las reglas de un lenguaje de programación en\n",
    "particular a código máquina.\n",
    "\n",
    "**Python** es un lenguaje de programación. Pero también llamamos Python al programa que\n",
    "traduce Python-el-lenguaje a código máquina para que pueda ser interpretado por una\n",
    "computadora. De ahí que en la expresión “instalar Python” nos referimos a\n",
    "Python-el-programa, mientras que “programar en Python” se refiere a Python-el-lenguaje.\n",
    "En la jerga, para evitar dicha ambigüedad, a Python-el-programa también se lo denomina\n",
    "intérprete .\n",
    "\n",
    "Python es un lenguaje que se caracteriza por tener una **sintaxis sencilla** (fácil de aprender\n",
    "para legos en programación) y **clara** (elocuente y de lectura fluida). Por ello resulta una\n",
    "herramienta ideal para iniciarse en esto de la programación. Pero independientemente del\n",
    "lenguaje que usaremos en este curso, lo más importante es que aprenderemos conceptos\n",
    "generales de la programación (aunque claro, con las particularidades de Python), que se\n",
    "aplicarán igualmente para otros. Así como aprender un segundo idioma es más sencillo\n",
    "habiendo dominado nuestra lengua materna, del mismo modo ocurre en el mundo de la\n",
    "programación. Y no es de extrañar que una misma persona, con el tiempo, acabe versada en\n",
    "varios lenguajes de programación; aunque por lo general uno termina tomando una decisión\n",
    "según sus propios gustos y especializándose en alguno en particular.\n",
    "\n",
    "Para finalizar este apartado, precisemos una clasificación que nos será útil para poder\n",
    "avanzar. Ya dijimos que un programa o aplicación es un conjunto de instrucciones escritas\n",
    "según las reglas de un lenguaje de programación. Si bien existen varios tipos de\n",
    "aplicaciones, en este curso estaremos trabajando con los siguientes dos:\n",
    "* Aplicaciones de consola\n",
    "* Aplicaciones de escritorio\n",
    "\n",
    "Por el momento basta con saber que en Python los programas son, por defecto, aplicaciones\n",
    "de consola.\n",
    "Estructura de un programa\n",
    "Me permito usar la siguiente analogía: escribir un programa es como redactar una receta de cocina. La diferencia es que quien escribe es un programador y quien “cocina”, una máquina. Las computadoras, a diferencia de los cocineros, nunca se equivocan al interpretar una “receta”. Siempre hacen lo que le decimos, al pie de la letra. Todos los problemas que surgen en la industria del software radican en creer que le estamos indicando una actividad X a una máquina cuando, en realidad,\n",
    "programamos una actividad Y. \n",
    "Esto es, cuando hay una disociación entre lo que le “decimos” y lo que quisimos decir.\n",
    "\n",
    "De esta primera definición se sigue que podemos escribir un programa tanto en un pizarrón\n",
    "como en un programa pensado para esa tarea (al que llamamos editor de código ). Las\n",
    "instrucciones de los programas tienen una disposición similar a la del español: se interpretan\n",
    "de arriba a abajo y de izquierda a derecha. Aunque a veces podemos indicarle que queremos\n",
    "que tal instrucción o conjunto de instrucciones se ejecute dos o más veces, o que en\n",
    "ocasiones no se ejecute, o que se vuelva a la primera instrucción, entre otras cosas\n",
    "similares. Este recorrido del código (entendemos código por conjuntos de instrucciones ) que\n",
    "hace una máquina al interpretarlo se denomina flujo de un programa .\n",
    "\n",
    "Un conjunto de instrucciones con el objetivo de obtener un determinado comportamiento se\n",
    "conoce como algoritmo (según el diccionario de la Real Academia Española: conjunto ordenado y finito de\n",
    "operaciones que permite hallar la solución de un problema ). Por ejemplo, el proceso por el\n",
    "cual se calculan las raíces de una ecuación de segundo grado constituye un algoritmo.\n"
   ]
  },
  {
   "cell_type": "markdown",
   "metadata": {},
   "source": [
    "## Por que Python? \n",
    "\n",
    "Uno de los motivos por el cual Python ha crecido en los ultimos años es su gran comunidad de código abierto. Existen muchos eventos a los que se puede asistir para aprender más acerca de lo que se trabaja en Python. Todos ellos son inclusivos y abiertos al público.\n",
    "\n",
    "Algunos ejemplos:\n",
    "\n",
    "**Conferencias**  \n",
    "[PyCon Argentina](https://twitter.com/pyconar/status/1147119669049999364). Conferencia Anual de Python organizada por [PyAr](https://www.python.org.ar/), comunidad Python Argentina.    \n",
    "[PyData Argentina](https://pydata.org/cordoba2019/). Evento enfocado a Analisis de datos y Data science utilizando Python, R y Julia.\n",
    "\n",
    "**MeetUps**  \n",
    "[Data Science Argentina](https://www.meetup.com/es/Argentina-Data-Science-Meetup/)  \n",
    "[PyData Buenos Aires](https://www.meetup.com/es/PyData-Buenos-Aires/)  \n",
    "[Women in Machine Learning Buenos Aires](https://www.meetup.com/es/Buenos-Aires-Women-in-Machine-Learning-Data-Science/)\n",
    "\n",
    "\n",
    "Python es un lenguaje de programación de propósito general muy poderoso y flexible, a la vez que sencillo y fácil de aprender.\n",
    "\n",
    "**¿Donde recurro cuando estoy trabada o no se qué hacer?**\n",
    "\n",
    "Python posee una amplia documentación que nos permite investigar cada función que contiene el lenguaje. Podes chequearla [acá](https://docs.python.org/3/)\n",
    "\n",
    "Otra fuente para obtener respuestas es [Stackoverflow](https://es.stackoverflow.com/) o por supuesto, Google.\n",
    "\n",
    "\n",
    "\n",
    "## Python y Data Science\n",
    "\n",
    "Utilizar Python para la Ciencia de Datos se transformó en una de las elecciones mas populares en el mundo para comenzar a andar esta nueva carrera profesional. \n",
    "La eleccion del lenguaje de programacion adecuado para proyectos de grandes cantidades de datos es una desicion crucial, ya que migrar un proyecto una vez que comienza es muy dificil.\n",
    "Aunque hay varios lenguajes que tambien se utilizan con Datos, como R, Java o Sas, la preferencia hacia Python se basa en 5 grandes razones para elegirlo.\n",
    "\n",
    "\n",
    "**Simplicidad**: Python es conocido por hacer que los programas funcionen en la menor cantidad de lineas de codigo.\n",
    "Identifica y asocia automaticamente los tipos de datos y, en general, resulta un lenguaje facil de usar y toma menos tiempo en la codificacion. Tampoco hay limitacion para el procesamiento de datos.  Puede calcular datos en cualquier tipo de equipo y entorno, básicamente en todas partes. Anteriormente se argumentaba que Python era más lento que algunos de sus homólogos como Java y Scala, pero con la plataforma Anaconda se ha puesto al día demostrando que es rápido tanto en desarrollo como en ejecución.\n",
    "\n",
    "**Compatibilidad**:  Hadoop es la plataforma de big data de código abierto más popular y la compatibilidad inherente de Python es otra razón más para preferirlo a otros lenguajes.\n",
    "Cuando hablamos de Data Science siempre vamos a estar relacionados con Big Data, y por ello tambien es importante la afinidad de ambas plataformas.\n",
    "\n",
    "**Facilidad de aprendizaje**:En comparación con otros idiomas, Python es fácil de aprender incluso para los programadores con menos experiencia. Es un primer idioma ideal debido a tres razones principales: cuenta con amplios recursos de aprendizaje, garantiza un código legible y se rodea de una gran comunidad. Todo esto se traduce en una curva de aprendizaje gradual con la aplicación directa de conceptos en programas del mundo real. La gran comunidad Python ofrece la seguridad de saber que, caso de encontrar problemas en el desarrollo, habrá otros que puedan echar una mano para ayudar a resolverlos.\n",
    "\n",
    "**Paquetes de gran alcance**:Python tiene un poderoso conjunto de paquetes para una amplia gama de necesidades de análisis y ciencia de datos. Algunos de los paquetes populares que le dan a este idioma una ventaja son NumPy, Pandas, Scipy, Scikit-learn, PyBrain, Tensorflow, Cython, PyMySQL, BeautifulSoup o iPython.\n",
    "\n",
    "**Visualizacion de datos**:Aunque R es mejor en lo que respecta a la visualización de datos, con paquetes recientes, Python para big data ha mejorado su oferta en este espacio. Ahora existen API que pueden ofrecer buenos resultados.\n",
    "\n",
    "\n",
    "Python es un lenguaje muy popular como puede comprobarse en cualquier equipo de científicos de datos. Siempre es fácil encontrar algunas personas en cada departamento como marketing, desarrollo, mantenimiento, servicio al cliente con un conocimiento práctico de Python, lo que supone el mejor seguro para las empresas. No siempre es fácil establecer una comunicación entre los diferentes departamentos y, con Python y big data, este tipo de inconvenientes no existen."
   ]
  },
  {
   "cell_type": "markdown",
   "metadata": {},
   "source": [
    "## Empecemos!\n",
    "\n",
    "\n",
    "### Instalación de Python y Jupyter Notebook"
   ]
  },
  {
   "cell_type": "markdown",
   "metadata": {},
   "source": [
    "Antes de empezar a programar debemos instalar las aplicaciones necesarias para esta tarea.\n",
    "Lo principal para este curso es tener instalado Anaconda (lo cual nos va a instalar todo lo que necesitemos para comenzar nuestra carrera de Data Scientist). Para ello vamos a dirigirnos a la página oficial del programa \n",
    "(https://www.anaconda.com/distribution/) y seguir los pasos.\n",
    "#### Importante:\n",
    "A la hora de instalarlo no deben olvidar seleccionar la version **Python 3.X**, ya que las versiones anteriores ya no tienen soporte.\n",
    "\n",
    "#### Aclaraciones\n",
    "Anaconda es un entorno de trabajo que nos instala varias cosas al mismo tiempo:\n",
    "La ultima version de Python, el Jupyter Notebook (Nuestro IDE), las librerias que vamos a necesitar durante nuestros comienzos, entre otras herramientas que ya veremos a lo largo de este curso."
   ]
  },
  {
   "cell_type": "markdown",
   "metadata": {},
   "source": [
    "En estas clases utilizaremos **Jupyter Notebook**. La ventaja de jupyter notebook es que permite mezclar celdas `Markdown` con celdas de código.\n",
    "\n",
    "1) **Markdown** es un lenguaje de marcado que permite dar formato a un texto de manera rápida y fácil.\n",
    " \n",
    "Para utilizarlo debes seguir ciertas convenciones que puedas consultar en la siguiente página web: [Guía Markdown](https://joedicastro.com/pages/markdown.html)\n",
    "\n",
    "2) Por otro lado, en las celdas de código es donde vamos a escribir el código **Python**.  \n",
    "\n",
    "Prestale atención a los corchetes que se encuentran al lado de cada celda de Python. Cuando tienen un número significa que esa celda ha sido corrida. Cuando tienen `*` implica que la celda esta corriendo.\n",
    "\n",
    "Python posee una guía de estilo, que si bien no es obligatoria, se **RECOMIENDA** seguir. Podes leer acerca de las convenciones establecidas en el [PEP8](https://www.python.org/dev/peps/pep-0008/).\n",
    "\n",
    "El simbolo `#` se utiliza para determinar un comentario. Esto significa que al verlo, Python entendera que esa línea no corresponde a código que debe correrse.\n",
    "\n",
    "Comentar el código es una practica muy útil para explicar que hace una linea de código. La convención es que el comentario se haga en la línea anterior a la linea de código correspondiente.\n",
    "\n",
    "La filosofía de Python hace hincapié en una sintaxis que favorezca un código legible. Esta filosofía se resumen en lo que se conoce como el **ZEN de Python**."
   ]
  },
  {
   "cell_type": "code",
   "execution_count": null,
   "metadata": {},
   "outputs": [],
   "source": [
    "#Corre esta linea para descubrir el zen de Python\n",
    "import this"
   ]
  },
  {
   "cell_type": "code",
   "execution_count": null,
   "metadata": {},
   "outputs": [],
   "source": []
  },
  {
   "cell_type": "markdown",
   "metadata": {},
   "source": [
    "Empecemos con una función muy simple de Python: `print()`. Esta función imprime la variable que se le pase."
   ]
  },
  {
   "cell_type": "code",
   "execution_count": null,
   "metadata": {},
   "outputs": [],
   "source": [
    "#Corre esta celda para descrubir el output\n",
    "print(\"Python es muy fácil de aprender\")"
   ]
  },
  {
   "cell_type": "markdown",
   "metadata": {},
   "source": [
    "Prueba modificar el texto dentro de las comillas para poder editar lo que quieres imprimir"
   ]
  },
  {
   "cell_type": "markdown",
   "metadata": {},
   "source": [
    "## Expresiones\n",
    "Avancemos un poco más con el diseño del código. Todos los lenguajes de programación\n",
    "tienen la capacidad de ejecutar `operaciones matemáticas simples` (suma, resta,\n",
    "multiplicación, división); es decir, incorporan una suerte de calculadora virtual que podemos\n",
    "usar en nuestros programas para hacer este tipo de operaciones. La `sintaxis` (por sintaxis\n",
    "entendemos el orden y la relación de los términos de un lenguaje necesarios para que una\n",
    "instrucción sea comprendida) para realizar una suma en Python es similar a la que usamos\n",
    "en matemática para expresar dicha operación."
   ]
  },
  {
   "cell_type": "code",
   "execution_count": null,
   "metadata": {},
   "outputs": [],
   "source": [
    "#Ejecuta esta linea!\n",
    "print(5 + 7)"
   ]
  },
  {
   "cell_type": "markdown",
   "metadata": {},
   "source": [
    "Python puede usarse para hacer calculos básicos. Veamos alguna de las funciones que pueden ser utilizadas en Python"
   ]
  },
  {
   "cell_type": "code",
   "execution_count": null,
   "metadata": {},
   "outputs": [],
   "source": [
    "#Suma\n",
    "print(4+3)\n",
    "#Resta\n",
    "print(5-2)\n",
    "#Multiplicacion\n",
    "print(3 * 5)\n",
    "#División\n",
    "print(10 / 2)"
   ]
  },
  {
   "cell_type": "code",
   "execution_count": null,
   "metadata": {},
   "outputs": [],
   "source": [
    "#Corre las siguientes celdas y descubre que funciones se utilizan\n",
    "print(4 ** 2)\n",
    "print(18 % 7)\n",
    "print(7//2)"
   ]
  },
  {
   "cell_type": "markdown",
   "metadata": {},
   "source": [
    "#### EXPLICACION\n",
    "*La primera funcion es la potenciación esto es $4^2$*\n",
    "\n",
    "*El operador % devuelve el resto de la division, en este caso entre 18 y 7* (llamado `modulo`)\n",
    "\n",
    "*El operador // devuelve el cociente de la division entre 7 y 3*"
   ]
  },
  {
   "cell_type": "markdown",
   "metadata": {},
   "source": [
    "## Variables y Estructura de datos\n",
    "\n",
    "### Asignación de variables:\n",
    "\n",
    "En Python, una variable permite referir a un valor utilizando un nombre en especifico. Para crear una variable, se debe usar `=` como en el siguiente ejemplo:"
   ]
  },
  {
   "cell_type": "code",
   "execution_count": null,
   "metadata": {},
   "outputs": [],
   "source": [
    "b = \"Hola mundo\""
   ]
  },
  {
   "cell_type": "markdown",
   "metadata": {},
   "source": [
    "Ahora, sigue las instrucciones de los comentarios."
   ]
  },
  {
   "cell_type": "code",
   "execution_count": null,
   "metadata": {},
   "outputs": [],
   "source": [
    "# Ejecuta para invocar a la variable\n",
    "b"
   ]
  },
  {
   "cell_type": "code",
   "execution_count": null,
   "metadata": {},
   "outputs": [],
   "source": [
    "#Asigna 100 a la variable mi_variable\n",
    "mi_variable = 100"
   ]
  },
  {
   "cell_type": "code",
   "execution_count": null,
   "metadata": {},
   "outputs": [],
   "source": [
    "#Muestra el contenido de la variable\n",
    "print(mi_variable)"
   ]
  },
  {
   "cell_type": "code",
   "execution_count": null,
   "metadata": {},
   "outputs": [],
   "source": [
    "resultado = factor**7* mi_variable\n",
    "print(\"Hola \"+ \"Mundo\")"
   ]
  },
  {
   "cell_type": "markdown",
   "metadata": {},
   "source": [
    "Las variables pueden ser llamadas posteriormente. Además podemos realizar calculos y operaciones con ellas."
   ]
  },
  {
   "cell_type": "code",
   "execution_count": null,
   "metadata": {},
   "outputs": [],
   "source": [
    "#Crea una variable llamada factor que contenga el numero 1.1\n",
    "factor = 1.1\n",
    "\n",
    "#Calcula el resultado de elevar a la 7 la varible factor multiplicarla \n",
    "#por el numero contenido en mi_varible y asignala a una nueva variable\n",
    "#llamada resultado\n",
    "resultado = factor**7*mi_variable\n",
    "#Imprime el resultado\n",
    "print(resultado)"
   ]
  },
  {
   "cell_type": "markdown",
   "metadata": {},
   "source": [
    "Hay ciertas reglas que se deben cumplir a la hora de declarar una variable:  \n",
    "\n",
    "- Los nombres de las variables siempre aparecen a la izquierda de `=`.\n",
    "- Python diferencia mayusculas de minusculas en el nombre de las variables.\n",
    "- Los nombres de las variables DEBEN comenzar con una letra. Luego pueden contener nombres y guiones bajos `_`. Pero no pueden contener caracteres especiales (como por ejemplo, `&`, `*`, `#`, etc).\n",
    "- Si bien Python no le importa como llames a tus variables, los nombres de las variables deben ser descriptivos de los valores o datos que contienen para que otras personas puedan interpretarlo.\n",
    "- Lee más acerca de estas convenciones en el **PEP8**."
   ]
  },
  {
   "cell_type": "markdown",
   "metadata": {},
   "source": [
    "**PALABRAS RESERVADAS**: Hay 33 palabras que no podes utilizar como nombres de variables, debido a que estan reservadas para el lenguaje ya que cumplen una función particular en Python."
   ]
  },
  {
   "cell_type": "markdown",
   "metadata": {},
   "source": [
    "_Ellas son_: False, None, True, and, as, assert, break, class, continue, def, del, elif, else, except, finally, for, from, global, if, import, in, is, lambda, nonlocal, not, or, pass, raise, return, try, while, with, yield\n",
    "\n"
   ]
  },
  {
   "cell_type": "markdown",
   "metadata": {},
   "source": [
    "## Entrada de datos\n",
    "Hasta el momento hemos estado usando la instrucción print para imprimir información en la\n",
    "consola. La operación inversa es la entrada de datos, esto es, que el usuario ingrese\n",
    "información en la consola y podamos guardarla en una variable. \n",
    "\n",
    "En Python esto se realiza vía la instrucción input ."
   ]
  },
  {
   "cell_type": "code",
   "execution_count": null,
   "metadata": {},
   "outputs": [],
   "source": [
    "#Ejecuta esta linea\n",
    "nombre = float(input(\"Escribe un numero: \"))\n",
    "resultado = nombre + 2\n",
    "resultado"
   ]
  },
  {
   "cell_type": "code",
   "execution_count": null,
   "metadata": {},
   "outputs": [],
   "source": []
  },
  {
   "cell_type": "markdown",
   "metadata": {},
   "source": [
    "Notarás que input es similar a print , puesto que lo que indicamos entre paréntesis y entre comillas será mostrado en pantalla. Pero a diferencia de ésta, de input decimos que “retorna” un valor (así como 7 + 5 retornaba 12 ), que no es otra cosa que lo escrito en la consola por el usuario, y lo almacenamos en una variable que queramos.\n",
    "\n",
    "Una vez ingresado el nombre podemos imprimirlo en pantalla:"
   ]
  },
  {
   "cell_type": "code",
   "execution_count": null,
   "metadata": {},
   "outputs": [],
   "source": [
    "#Ejecuta esta linea\n",
    "nombre = input(\"Escribe tu nombre: \")\n",
    "print(nombre)"
   ]
  },
  {
   "cell_type": "markdown",
   "metadata": {},
   "source": [
    "También, como el resultado de input es siempre una cadena, podemos usar el operador de\n",
    "suma para mostrar un saludo:"
   ]
  },
  {
   "cell_type": "code",
   "execution_count": null,
   "metadata": {},
   "outputs": [],
   "source": [
    "#Ejecuta esta linea\n",
    "nombre = input(\"Escribe tu nombre:\")\n",
    "print(\"Hola \" + nombre)"
   ]
  },
  {
   "cell_type": "markdown",
   "metadata": {},
   "source": [
    "### Tipos de dato\n",
    "Los tipos de dato permiten clasificar la información que contiene una variable. En Python,\n",
    "distinguimos cuatro tipos de dato básicos: números enteros(`int`), números de coma flotante\n",
    "(`float`), cadenas de texto(`strings`) y booleanos (`bool`), que solo pueden contener dos valores: verdadero o falso.\n",
    "\n",
    "Python nos provee una función útil para chequear que tipo de variable contiene cada variable definida: `type()` [Chequea la documentación](https://docs.python.org/3/library/functions.html?highlight=type#type). "
   ]
  },
  {
   "cell_type": "markdown",
   "metadata": {},
   "source": [
    "### Enteros (`int`)\n",
    "\n",
    "El primer tipo de datos que podemos tener son numeros enteros, que corresponde al tipo `int` en Python."
   ]
  },
  {
   "cell_type": "code",
   "execution_count": null,
   "metadata": {},
   "outputs": [],
   "source": [
    "#Declara la variable mi_numero y asignale el numero 4\n",
    "mi_numero = 4\n",
    "\n",
    "#Declara la variable otro_numero y asignale el numero -1\n",
    "otro_numero = -1\n",
    "\n",
    "#Chequea que tipo de variables son mi_numero y otro_numero\n",
    "print(type(mi_numero))\n",
    "print(type(otro_numero))"
   ]
  },
  {
   "cell_type": "code",
   "execution_count": null,
   "metadata": {},
   "outputs": [],
   "source": [
    "#Imprime el resultado de multiplicar mi_numero y otro_numero\n",
    "print(mi_numero*otro_numero)"
   ]
  },
  {
   "cell_type": "markdown",
   "metadata": {},
   "source": [
    "### FLOTANTES (`float`)\n",
    "\n",
    "Además de enteros, los datos también pueden ser de tipo flotantes. Esto es pueden contener numeros como `5.5`, `7.7`, `9014019401.43`. Este tipo de variable corresponde a `float` en Python."
   ]
  },
  {
   "cell_type": "code",
   "execution_count": null,
   "metadata": {},
   "outputs": [],
   "source": [
    "#Declara la variable float_numero y asignale el numero 4.9\n",
    "float_numero = 4.9\n",
    "\n",
    "#Chequea que tipo de variable es float_numero\n",
    "print(type(float_numero))"
   ]
  },
  {
   "cell_type": "code",
   "execution_count": null,
   "metadata": {},
   "outputs": [],
   "source": [
    "#Imprime el resultado de elevar float_numero a mi_numero, declarado anteriormente\n",
    "print(float_numero**mi_numero)"
   ]
  },
  {
   "cell_type": "markdown",
   "metadata": {},
   "source": [
    "### BOOLEANOS (`bool`)\n",
    "Una variable booleana es una variable lógica que admite solo dos valores `True` y `False`. "
   ]
  },
  {
   "cell_type": "code",
   "execution_count": null,
   "metadata": {},
   "outputs": [],
   "source": [
    "#Corre la siguiente linea \n",
    "mi_bool = True"
   ]
  },
  {
   "cell_type": "code",
   "execution_count": null,
   "metadata": {},
   "outputs": [],
   "source": [
    "#Ahora asigna a la variable otra_bool el valor False\n",
    "otra_bool = False"
   ]
  },
  {
   "cell_type": "code",
   "execution_count": null,
   "metadata": {},
   "outputs": [],
   "source": [
    "#Chequea que tipo de variables son mi_bool y otra_bool\n",
    "print(type(mi_bool))\n",
    "print(type(otra_bool))"
   ]
  },
  {
   "cell_type": "markdown",
   "metadata": {},
   "source": [
    "Pese a que las variables booleanas son definidas con los valores `True` y `False`, Python las trata como numeros. "
   ]
  },
  {
   "cell_type": "code",
   "execution_count": null,
   "metadata": {},
   "outputs": [],
   "source": [
    "#Prueba que ocurre si sumamos mi_bool y otra_bool\n",
    "mi_bool + otra_bool"
   ]
  },
  {
   "cell_type": "markdown",
   "metadata": {},
   "source": [
    "### CADENA DE CARACTERES (`string`) \n",
    "La cadena de caracteres o string es otro tipo de datos que podemos encontrar en Python. Estas variables poseen de particular que se definen utilizando comillas, como en el ejemplo siguiente:"
   ]
  },
  {
   "cell_type": "code",
   "execution_count": null,
   "metadata": {},
   "outputs": [],
   "source": [
    "#Corre las siguientes lineas\n",
    "mi_frase = \"Aprender Python es muy sencillo\"\n",
    "segunda_frase = 'Solo hay que practicar'\n",
    "print(mi_frase)\n",
    "print(segunda_frase)"
   ]
  },
  {
   "cell_type": "markdown",
   "metadata": {},
   "source": [
    "#### Comillas\n",
    "Como habras observado arriba, se pueden utilizar comillas dobles como simples para definir strings. La regla es que utilices las mismas comillas para **abrir y cerrar** el string."
   ]
  },
  {
   "cell_type": "code",
   "execution_count": null,
   "metadata": {},
   "outputs": [],
   "source": [
    "#Define un string que quieras y asignaselo a la variable mi_primer_string\n",
    "mi_primer_string = \"Aca va un string\"\n",
    "\n",
    "#Imprime la variable mi_primer_string\n",
    "print(mi_primer_string)"
   ]
  },
  {
   "cell_type": "code",
   "execution_count": null,
   "metadata": {},
   "outputs": [],
   "source": [
    "#Define un segundo string y asignaselo a la variable segundo_string\n",
    "segundo_string = \"Aca va otro string\""
   ]
  },
  {
   "cell_type": "code",
   "execution_count": null,
   "metadata": {},
   "outputs": [],
   "source": [
    "#Ahora aplica el operador suma (+) entre las dos variables y fijate que pasa\n",
    "mi_primer_string + segundo_string"
   ]
  },
  {
   "cell_type": "markdown",
   "metadata": {},
   "source": [
    "Como observaste los strings también pueden sumarse, o en terminos más correctos, **concatenarse**.\n",
    "\n",
    "Python también nos permite acceder a un elemento del string o una porción de él. Esto se realiza mediante el uso de indices que se especifican con corchetes `[]`."
   ]
  },
  {
   "cell_type": "code",
   "execution_count": null,
   "metadata": {},
   "outputs": [],
   "source": [
    "#Defino un string\n",
    "prueba_indice = \"Acceder a un caracter es facil\"\n",
    "\n",
    "#Accedo al tercer caracter\n",
    "prueba_indice[3]"
   ]
  },
  {
   "cell_type": "markdown",
   "metadata": {},
   "source": [
    "**¿Observaste bien?** Si especifico el indice 3, me trae el 4to caracter. Esto es porque en Python los indices comienzan en 0. Entonces, el primer caracter tiene indice 0, el segundo 1 y asi sucesivamente."
   ]
  },
  {
   "cell_type": "code",
   "execution_count": null,
   "metadata": {},
   "outputs": [],
   "source": [
    "#Accede al octavo caracter del string prueba_indice\n",
    "print(prueba_indice[7])\n",
    "\n",
    "#Accede al quinto caracter del string prueba_indice\n",
    "print(prueba_indice[4])"
   ]
  },
  {
   "cell_type": "markdown",
   "metadata": {},
   "source": [
    "También es posible acceder a una porción del string. Esto se hace utilizando también corchetes [], pero se especifica el indice donde comienzo, luego : y luego el indice donde termino."
   ]
  },
  {
   "cell_type": "code",
   "execution_count": null,
   "metadata": {},
   "outputs": [],
   "source": [
    "#Corre la siguiente linea\n",
    "print(prueba_indice[8:22])"
   ]
  },
  {
   "cell_type": "markdown",
   "metadata": {},
   "source": [
    "**¿Notaste algo en particular?** Para poder traer la porción entre el 9no y el 22do caracter, debo especificar el caracter donde comienza (`8`) y la posición donde termina (`21`).   \n",
    "Sin embargo, especificamos 22. ¿Por qué? Porque Python **SIEMPRE excluye** la última posición que le especifiquemos. Entonces si especificamos hasta 21, traera hasta el 20. Si queremos hasta el 21 inclusive, debemos colocar 22 entonces."
   ]
  },
  {
   "cell_type": "code",
   "execution_count": null,
   "metadata": {},
   "outputs": [],
   "source": [
    "#asigna el string a la variable mi_frase_prueba\n",
    "mi_frase_prueba = \"Es esencial que leas mucho\"\n",
    "mi_segunda_prueba = \"Para muchos era invisible aunque sus ojos se destacaban\""
   ]
  },
  {
   "cell_type": "code",
   "execution_count": null,
   "metadata": {},
   "outputs": [],
   "source": [
    "#Selecciona el substring esencial de la variable mi_frase_prueba y asignalo a la variable primera_palabra\n",
    "primera_palabra = mi_frase_prueba[3:11]\n",
    "\n",
    "#Selecciona el substring invisible de la variable mi_segunda_prueba y asignalo a la variable segunda_palabra\n",
    "segunda_palabra = mi_segunda_prueba[16:25]\n",
    "\n",
    "#Selecciona el substring ojos de la variable mi_segunda_prueba y asignalo a la variable tercera_palabra\n",
    "tercera_palabra = mi_segunda_prueba[37:41]"
   ]
  },
  {
   "cell_type": "code",
   "execution_count": null,
   "metadata": {},
   "outputs": [],
   "source": [
    "#Concatena los strings \"Lo\", primera_palabra, \"es\", segunda_palabra, \"a los\", tercera_palabra.\n",
    "#Imprime el resultado. No te olvides de especificar espacios usando el string \" \"\n",
    "print(\"Lo\"+\" \"+primera_palabra+\" \"+\"es\"+\" \"+segunda_palabra+\" \"+\"a los\"+\" \"+tercera_palabra)"
   ]
  },
  {
   "cell_type": "code",
   "execution_count": null,
   "metadata": {},
   "outputs": [],
   "source": [
    "#Ahora concatena tercera_palabra y la variable mi_numero definida anteriormente\n",
    "tercera_palabra + mi_numero"
   ]
  },
  {
   "cell_type": "markdown",
   "metadata": {},
   "source": [
    "Como podrás ver no es posible concatenar variables de distintos tipos. Sin embargo, hay algunas funciones que nos brinda Python que nos permiten transformar entre tipos de variables.\n",
    "\n",
    "- `str()` convierte a string una variable o valor"
   ]
  },
  {
   "cell_type": "code",
   "execution_count": null,
   "metadata": {},
   "outputs": [],
   "source": [
    "#Aplica la función str a la variable mi_numero y guardala en la variable mi_numero_str\n",
    "mi_numero_str = str(mi_numero)"
   ]
  },
  {
   "cell_type": "code",
   "execution_count": null,
   "metadata": {},
   "outputs": [],
   "source": [
    "#Concatena tercera_palabra y mi_numero_str\n",
    "tercera_palabra + mi_numero_str"
   ]
  },
  {
   "cell_type": "markdown",
   "metadata": {},
   "source": [
    "- `int()` convierte a entero una variable o valor"
   ]
  },
  {
   "cell_type": "code",
   "execution_count": null,
   "metadata": {},
   "outputs": [],
   "source": [
    "#Aplica la función int a mi_numero_str y multiplicalo por 5\n",
    "int(mi_numero_str) * 5"
   ]
  },
  {
   "cell_type": "markdown",
   "metadata": {},
   "source": [
    "Otras funciones similares son: [`float()`](https://docs.python.org/3/library/functions.html#float) y [`bool()`](https://docs.python.org/3/library/functions.html#bool)."
   ]
  },
  {
   "cell_type": "markdown",
   "metadata": {},
   "source": [
    "#### Inmutables\n",
    "\n",
    "Todos los tipos de variables que vimos hasta ahora son **inmutables**. Esto significa que no pueden ser alteradas después de haber sido creadas."
   ]
  },
  {
   "cell_type": "code",
   "execution_count": null,
   "metadata": {},
   "outputs": [],
   "source": [
    "#Corre la siguiente linea y observa que occurre\n",
    "variable_inmutable = \"Los strings son inmutables en Python\"\n",
    "variable_inmutable[8] = \"f\""
   ]
  },
  {
   "cell_type": "markdown",
   "metadata": {},
   "source": [
    "Lo que nos dice el error, es que una vez asignada una variable, no puedo cambiar parte de ella. \n",
    "Además de los mencionados hasta ahora, Python nos ofrece otras estructuras de datos que son más flexibles y permiten agrupar varios valores. Además muchas de ellas son mutables, es decir, permiten que asignemos o alteremos valores una vez definidas. "
   ]
  },
  {
   "cell_type": "markdown",
   "metadata": {},
   "source": [
    "## Operaciones aritméticas\n",
    "Ahora que conocemos los cuatro tipos de dato básicos, veamos algunas operaciones que se\n",
    "pueden aplicar sobre ellos.\n",
    "Comencemos por los números enteros y de coma flotante. En la clase anterior estuvimos\n",
    "sumando dos enteros de la siguiente forma:"
   ]
  },
  {
   "cell_type": "code",
   "execution_count": null,
   "metadata": {},
   "outputs": [],
   "source": [
    "#Suma\n",
    "print(7+5)\n",
    "#Resta\n",
    "print(5-2)\n",
    "#Multiplicacion\n",
    "print(3 * 5)\n",
    "#División\n",
    "print(10 / 2)"
   ]
  },
  {
   "cell_type": "markdown",
   "metadata": {},
   "source": [
    "Los objetos alrededor de un operador (en este ejemplo, 7 y 5 ) pueden ser simples números\n",
    "enteros o de coma flotante, o bien expresiones que retornen un número entero o de coma\n",
    "flotante, o bien **variables** que contengan un número entero o de coma flotante."
   ]
  },
  {
   "cell_type": "code",
   "execution_count": null,
   "metadata": {},
   "outputs": [],
   "source": [
    "a = 5\n",
    "pi = 3.1415\n",
    "print(a+7)\n",
    "print(pi-pi)\n",
    "print(pi*3)\n",
    "print(a/pi)"
   ]
  },
  {
   "cell_type": "markdown",
   "metadata": {},
   "source": [
    "Estas cuatro operaciones aritméticas retornan un entero cuando los dos objetos sobre los que actúan son enteros. Si alguno de ellos es un número de coma flotante, o bien ambos, el resultado es un número de coma flotante. De esto se sigue que pi - pi retorne 0.0 (un número de coma flotante) y no 0 (un número entero).\n",
    "\n",
    "También podemos hacer uso de los paréntesis para agrupar expresiones, al igual que en\n",
    "matemática:"
   ]
  },
  {
   "cell_type": "code",
   "execution_count": null,
   "metadata": {},
   "outputs": [],
   "source": [
    "print(7 + 5 * 3)\n",
    "print((7 + 5) * 3)"
   ]
  },
  {
   "cell_type": "markdown",
   "metadata": {},
   "source": [
    "## Operaciones comparativas\n",
    "Siguiendo con los números enteros y de coma flotante, además de las operaciones\n",
    "aritméticas disponemos de operaciones de comparación vía los siguientes operadores:\n",
    "\n",
    "     == (igualdad),\n",
    "     != (desigualdad),\n",
    "     > (mayor),\n",
    "     >= (mayor o igual),\n",
    "     < (menor) y,\n",
    "     < (menor o igual).\n",
    "     \n",
    "Al ejecutar alguna de estas cinco operaciones, el resultado siempre es un `booleano` (es decir, True o False ) según la comparación sea verdadera o falsa, así como el resultado en las operaciones aritméticas siempre era un número entero o de coma flotante. Ejemplos:"
   ]
  },
  {
   "cell_type": "code",
   "execution_count": null,
   "metadata": {},
   "outputs": [],
   "source": [
    "print(7 > 5)\n",
    "print(7 <= 5)\n",
    "print(7 != 5)\n",
    "print(7 == 5)\n",
    "print(5 >= 7)\n",
    "print(5 < 7)"
   ]
  },
  {
   "cell_type": "markdown",
   "metadata": {},
   "source": [
    "Los operadores **> **,** >= **,** < **y** <= ** solo pueden aplicarse sobre números enteros o de coma flotante; no obstante, los operadores de igualdad y desigualdad permiten comparar indistintamente cualquiera de los cuatro tipos de dato básicos (y también otros que veremos más adelante)."
   ]
  },
  {
   "cell_type": "markdown",
   "metadata": {},
   "source": [
    "## Ejercicios:"
   ]
  },
  {
   "cell_type": "markdown",
   "metadata": {},
   "source": [
    "* Escribir un programa que muestre por pantalla la frase ¡Hola mundo!"
   ]
  },
  {
   "cell_type": "code",
   "execution_count": null,
   "metadata": {},
   "outputs": [],
   "source": []
  },
  {
   "cell_type": "markdown",
   "metadata": {},
   "source": [
    "* Escribir un programa que almacene la cadena ¡Hola Mundo! en una variable y luego muestre por pantalla el contenido de la variable."
   ]
  },
  {
   "cell_type": "code",
   "execution_count": null,
   "metadata": {},
   "outputs": [],
   "source": []
  },
  {
   "cell_type": "markdown",
   "metadata": {},
   "source": [
    "* Escribir un programa que pregunte el nombre del usuario en la consola y después de que el usuario lo introduzca muestre por pantalla la cadena ¡Hola < nombre >!, donde < nombre > es el nombre que el usuario haya introducido."
   ]
  },
  {
   "cell_type": "code",
   "execution_count": null,
   "metadata": {},
   "outputs": [],
   "source": []
  },
  {
   "cell_type": "markdown",
   "metadata": {},
   "source": [
    "* Escribir un programa que pregunte el nombre del usuario en la consola y un número entero e imprima por pantalla en líneas distintas el nombre del usuario tantas veces como el número introducido."
   ]
  },
  {
   "cell_type": "code",
   "execution_count": null,
   "metadata": {},
   "outputs": [],
   "source": []
  },
  {
   "cell_type": "markdown",
   "metadata": {},
   "source": [
    "* Escribir un programa que pida al usuario su peso (en kg) y estatura (en metros), calcule el índice de masa corporal y lo almacene en una variable, y muestre por pantalla la frase Tu índice de masa corporal es < imc> donde < imc> es el índice de masa corporal calculado redondeado con dos decimales."
   ]
  },
  {
   "cell_type": "code",
   "execution_count": null,
   "metadata": {},
   "outputs": [],
   "source": []
  },
  {
   "cell_type": "markdown",
   "metadata": {},
   "source": [
    "* Supongamos que tenemos $100, que podemos invertir obteniendo el 10\\% de interes cada año. Luego del primer año, tendremos 100 x 1.1, luego de dos años tendremos 100 x 1.1 x 1.1. ¿Cuanto tendrás luego de 7 años?"
   ]
  },
  {
   "cell_type": "code",
   "execution_count": null,
   "metadata": {},
   "outputs": [],
   "source": []
  },
  {
   "cell_type": "markdown",
   "metadata": {},
   "source": [
    "* Mostrar el precio del IVA de un producto con un valor de 100 y su precio final"
   ]
  },
  {
   "cell_type": "code",
   "execution_count": null,
   "metadata": {},
   "outputs": [],
   "source": []
  },
  {
   "cell_type": "markdown",
   "metadata": {},
   "source": [
    "* Escribir un programa donde pida ingresar 3 notas y luego muestre por pantalla el promedio de ellas"
   ]
  },
  {
   "cell_type": "code",
   "execution_count": null,
   "metadata": {},
   "outputs": [],
   "source": []
  },
  {
   "cell_type": "markdown",
   "metadata": {},
   "source": [
    "* Modificar el programa anterior de modo que la nota final sea la suma del 15% de la primer nota, el 35% de la segunda y el 50% de la tercer nota"
   ]
  },
  {
   "cell_type": "code",
   "execution_count": null,
   "metadata": {},
   "outputs": [],
   "source": []
  },
  {
   "cell_type": "markdown",
   "metadata": {},
   "source": [
    "* Crear, en un script de Python, tres variables nombradas a, b y c con valores numéricos cualesquiera; una cuarta llamada resultado que sea la suma de las primeras tres, y por último imprimir en pantalla cada una de ellas. Antes de mostrar el valor de cada variable, indicar su nombre en una línea anterior"
   ]
  },
  {
   "cell_type": "code",
   "execution_count": null,
   "metadata": {},
   "outputs": [],
   "source": []
  },
  {
   "cell_type": "code",
   "execution_count": null,
   "metadata": {},
   "outputs": [],
   "source": []
  }
 ],
 "metadata": {
  "kernelspec": {
   "display_name": "Python 3",
   "language": "python",
   "name": "python3"
  },
  "language_info": {
   "codemirror_mode": {
    "name": "ipython",
    "version": 3
   },
   "file_extension": ".py",
   "mimetype": "text/x-python",
   "name": "python",
   "nbconvert_exporter": "python",
   "pygments_lexer": "ipython3",
   "version": "3.6.5"
  }
 },
 "nbformat": 4,
 "nbformat_minor": 2
}
